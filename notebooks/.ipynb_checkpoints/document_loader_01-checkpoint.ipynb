{
 "cells": [
  {
   "cell_type": "code",
   "execution_count": 1,
   "id": "a63224a9",
   "metadata": {},
   "outputs": [
    {
     "name": "stderr",
     "output_type": "stream",
     "text": [
      "INFO - haystack.document_stores.base -  Numba not found, replacing njit() with no-op implementation. Enable it with 'pip install numba'.\n",
      "INFO - haystack.modeling.model.optimization -  apex not found, won't use it. See https://nvidia.github.io/apex/\n",
      "ERROR - root -  Failed to import 'magic' (from 'python-magic' and 'python-magic-bin' on Windows). FileTypeClassifier will not perform mimetype detection on extensionless files. Please make sure the necessary OS libraries are installed if you need this functionality.\n"
     ]
    }
   ],
   "source": [
    "import glob, os, sys; sys.path.append('../src')\n",
    "#import helper\n",
    "import preprocessing as pre\n",
    "import cleaning as clean"
   ]
  },
  {
   "cell_type": "code",
   "execution_count": 2,
   "id": "517ed826",
   "metadata": {},
   "outputs": [],
   "source": [
    "file = \"../data/150723_Kenya_First NDC.pdf\""
   ]
  },
  {
   "cell_type": "code",
   "execution_count": null,
   "id": "ced2c3a8",
   "metadata": {},
   "outputs": [],
   "source": [
    "file = \"../data/Research_Project_Proposal_15-04-2022.pdf\""
   ]
  },
  {
   "cell_type": "code",
   "execution_count": null,
   "id": "42aa1f14",
   "metadata": {},
   "outputs": [],
   "source": [
    "file = \"../data/test_docx.docx\""
   ]
  },
  {
   "cell_type": "code",
   "execution_count": 3,
   "id": "85ede4cf",
   "metadata": {},
   "outputs": [
    {
     "name": "stdout",
     "output_type": "stream",
     "text": [
      "<haystack.nodes.file_converter.pdf.PDFToTextConverter object at 0x7fdc1efde8e0>\n"
     ]
    },
    {
     "name": "stderr",
     "output_type": "stream",
     "text": [
      "pdftotext version 4.04 [www.xpdfreader.com]\n",
      "Copyright 1996-2022 Glyph & Cog, LLC\n",
      "pdftotext version 4.04 [www.xpdfreader.com]\n",
      "Copyright 1996-2022 Glyph & Cog, LLC\n",
      "Usage: pdftotext [options] <PDF-file> [<text-file>]\n",
      "  -f <int>               : first page to convert\n",
      "  -l <int>               : last page to convert\n",
      "  -layout                : maintain original physical layout\n",
      "  -simple                : simple one-column page layout\n",
      "  -simple2               : simple one-column page layout, version 2\n",
      "  -table                 : similar to -layout, but optimized for tables\n",
      "  -lineprinter           : use strict fixed-pitch/height layout\n",
      "  -raw                   : keep strings in content stream order\n",
      "  -fixed <number>        : assume fixed-pitch (or tabular) text\n",
      "  -linespacing <number>  : fixed line spacing for LinePrinter mode\n",
      "  -clip                  : separate clipped text\n",
      "  -nodiag                : discard diagonal text\n",
      "  -enc <string>          : output text encoding name\n",
      "  -eol <string>          : output end-of-line convention (unix, dos, or mac)\n",
      "  -nopgbrk               : don't insert a page break at the end of each page\n",
      "  -bom                   : insert a Unicode BOM at the start of the text file\n",
      "  -marginl <number>      : left page margin\n",
      "  -marginr <number>      : right page margin\n",
      "  -margint <number>      : top page margin\n",
      "  -marginb <number>      : bottom page margin\n",
      "  -opw <string>          : owner password (for encrypted files)\n",
      "  -upw <string>          : user password (for encrypted files)\n",
      "  -verbose               : print per-page status information\n",
      "  -q                     : don't print any messages or errors\n",
      "  -cfg <string>          : configuration file to use in place of .xpdfrc\n",
      "  -listencodings         : list all available output text encodings\n",
      "  -v                     : print copyright and version info\n",
      "  -h                     : print usage information\n",
      "  -help                  : print usage information\n",
      "  --help                 : print usage information\n",
      "  -?                     : print usage information\n"
     ]
    }
   ],
   "source": [
    "docs = pre.load_document(file)"
   ]
  },
  {
   "cell_type": "code",
   "execution_count": 4,
   "id": "c3de9f91",
   "metadata": {},
   "outputs": [
    {
     "name": "stderr",
     "output_type": "stream",
     "text": [
      "100%|██████████████████████████████████████████████████████████████████████████████████████████████████████████| 1/1 [00:00<00:00, 52.74docs/s]\n"
     ]
    }
   ],
   "source": [
    "docs_processed = clean.preprocessing(docs)"
   ]
  },
  {
   "cell_type": "code",
   "execution_count": 5,
   "id": "14a30350",
   "metadata": {},
   "outputs": [
    {
     "data": {
      "text/plain": [
       "[<Document: {'content': 'ministry of environment and natural resources kenya s intended nationally determined contribution indc july introduction kenya like other countries in the region is bearing the brunt of climate change impacts and the associated socioeconomic losses the situation is exacerbated by the high dependence on climate sensitive natural resources', 'content_type': 'text', 'score': None, 'meta': {'name': '../data/150723_Kenya_First NDC.pdf', '_split_id': 0}, 'embedding': None, 'id': '83a7752488a4ac0fbadcf94486d6c2e0'}>,\n",
       " <Document: {'content': 'in response to the challenges posed by climate change kenya has developed a national climate change response strategy nccrs national climate change action plan nccap and a national adaptation plan nap under preparation which provides a vision for low carbon and climate resilient development pathway while a national climate change framework policy and legislation are in their final stages of enactment to facilitate effective response to climate change', 'content_type': 'text', 'score': None, 'meta': {'name': '../data/150723_Kenya_First NDC.pdf', '_split_id': 1}, 'embedding': None, 'id': '6da8b06b5ce8d49d65f99701cc9a8f26'}>,\n",
       " <Document: {'content': 'kenya is operationalising these policies and plans through the implementation of climate change actions in various areas such as afforestation and reforestation geothermal and other clean energy development energy efficiency climate smart agriculture and drought management this document presents kenya s intended nationally determined contribution indc in response to decisions adopted at the th and th sessions of the conference of the parties to the united nations framework convention on climate change unfccc that invite parties to communicate to the secretariat their indcs towards achieving the objective of the unfccc as set out in article of the convention', 'content_type': 'text', 'score': None, 'meta': {'name': '../data/150723_Kenya_First NDC.pdf', '_split_id': 2}, 'embedding': None, 'id': '249f5bb39fde31b215d2da1e94bf602c'}>,\n",
       " <Document: {'content': 'kenya s indc builds on the participatory multistakeholder and crosssectoral consultative processes during the development of nccrs and nccap at national and county levels the contribution will also contribute towards the delivery of the constitution of kenya and the attainment of vision the country s development blueprint national circumstances kenya is located in the greater horn of africa region which is highly vulnerable to the impacts of climate change more than of the country s landmass is arid and semiarid land asal with poor infrastructure and other developmental challenges the country s economy is highly dependent on climate sensitive sectors such as agriculture that is mainly rainfed energy tourism water and health', 'content_type': 'text', 'score': None, 'meta': {'name': '../data/150723_Kenya_First NDC.pdf', '_split_id': 3}, 'embedding': None, 'id': '75fbc8c6fcf8779011fae1af85d4d1cf'}>,\n",
       " <Document: {'content': 'climate hazards have caused considerable losses across the country s different sectors over the years the main climate hazards include droughts and floods which cause economic losses estimated at of the country s gross domestic product gdp kenya s total greenhouse gas ghg emissions are relatively low standing at mtco eq in out of which are from the land use landuse change and forestry lulucf and agriculture sectors this may be explained by the reliance on wood fuel by a large proportion of the population coupled with the increasing demand for agricultural land and ministry of environment and natural resources urban development', 'content_type': 'text', 'score': None, 'meta': {'name': '../data/150723_Kenya_First NDC.pdf', '_split_id': 4}, 'embedding': None, 'id': 'c54b899f567aa012c31356ba142072de'}>,\n",
       " <Document: {'content': 'the other significant emissions are from the energy and transport sectors with the waste and industrial processes contributing negligible amounts kenya strives to be a newly industrialised middle income country by this development is expected to increase emissions from the energy sector the current energy mix however is mainly clean with deliberate efforts by government towards enhancing geothermal wind solar and other clean energy development climate change impacts continue to slow down the attainment of its national development goals kenya will continue making investments with both domestic and international resources to adapt to climate change and realise its abatement potentials', 'content_type': 'text', 'score': None, 'meta': {'name': '../data/150723_Kenya_First NDC.pdf', '_split_id': 5}, 'embedding': None, 'id': '80f55eaf04e76d6331bebe7d1f559e3c'}>,\n",
       " <Document: {'content': 'contribution kenya s indc includes both mitigation and adaptation components based on her national circumstances and in line with decisions cp and cp mitigation kenya aims to achieve a low carbon climate resilient development pathway kenya seeks to undertake an ambitious mitigation contribution towards the kenya will continue to implement the agreement kenya therefore seeks to abate its nccap and subsequent ghg emissions by by relative to action plans beyond this period to the bau scenario of mtco eq and in achieve this target this will include the line with its sustainable development agenda', 'content_type': 'text', 'score': None, 'meta': {'name': '../data/150723_Kenya_First NDC.pdf', '_split_id': 6}, 'embedding': None, 'id': '7859cdb3e2b8629de340dae25c946081'}>,\n",
       " <Document: {'content': 'promotion and implementation of the this is also subject to international support in following mitigation activities the form of finance investment technology development and transfer and capacity expansion in geothermal solar and wind energy production building other renewables and clean energy options enhancement of energy and resource efficiency across the different sectors make progress towards achieving a tree cover of at least of the land area of kenya clean energy technologies to reduce overreliance on wood fuels low carbon and efficient transportation systems climate smart agriculture csa in line with the national csa framework', 'content_type': 'text', 'score': None, 'meta': {'name': '../data/150723_Kenya_First NDC.pdf', '_split_id': 7}, 'embedding': None, 'id': '150b4e096478a75a32b76302d02ef393'}>,\n",
       " <Document: {'content': 'sustainable waste management systems ministry of environment and natural resources information to facilitate clarity transparency and understanding timeframe for the timeframe for implementation of the indc is up to implementation scope of gases carbon dioxide co methane ch and nitrous oxide n o included in the are prioritised contribution sectors covered by the ipcc guidelines for all sectors energy transportation the contribution industrial processes agriculture forestry and other land use afolu and waste sector', 'content_type': 'text', 'score': None, 'meta': {'name': '../data/150723_Kenya_First NDC.pdf', '_split_id': 8}, 'embedding': None, 'id': '90c5ba796592ecbb1a4229ef304559cb'}>,\n",
       " <Document: {'content': 'assumptions and methodological approaches methodology for the ipcc revised guidelines for national greenhouse gas emissions inventories and the good practise guidance and uncertainty accounting management in national greenhouse gas inventories were used to calculate the ghg emissions and removals as described in the second national communication emissions of carbon dioxide from the combustion of biomass are assessed but not counted towards the contribution future contribution from the extractive sector has not been included in the accounting', 'content_type': 'text', 'score': None, 'meta': {'name': '../data/150723_Kenya_First NDC.pdf', '_split_id': 9}, 'embedding': None, 'id': 'ba5b2d699fa84a330659ca18bcf5225d'}>,\n",
       " <Document: {'content': 'global warming the carbon dioxide equivalent was calculated using the year potentials global warming potentials in accordance with the ipcc nd assessment report approaches to land this includes emissions from the land use landuse change and sector emissions forestry lulucf sector relevant national policy documents and the faos global forest resource assessment for kenya were used a global landuse data approach was used as described in the ipcc good practice guidance for lulucf', 'content_type': 'text', 'score': None, 'meta': {'name': '../data/150723_Kenya_First NDC.pdf', '_split_id': 10}, 'embedding': None, 'id': '11764925488c99a4340aec0100ec0a7a'}>,\n",
       " <Document: {'content': 'a state and transition model consistent with the revised ipcc guidelines was used to calculate fluxes of co to or from the atmosphere and biomass carbon pools is the same as outlined in the revised ipcc guidelines there is significant uncertainty in the bau emission and mitigation potential estimates for this sector and work is underway to update and improve these estimates contribution of kenya does not rule out the use of international marketbased international mechanisms in line with agreed accounting rules', 'content_type': 'text', 'score': None, 'meta': {'name': '../data/150723_Kenya_First NDC.pdf', '_split_id': 11}, 'embedding': None, 'id': '405c285dcd20cf3348dfd59e4dbd1a37'}>,\n",
       " <Document: {'content': 'ministry of environment and natural resources market based mechanism reference point bau emissions in businessasusual bau emissions are estimated to be the target year mtco eq by this excludes future exploitation in the extractive sector bau projection the bau projection methodology is detailed within the nccap and methodology the second national communication snc including key assumptions drivers and methodologies for each sector the base year is for geothermal energy note that the bau projection contained in the nccap and snc has been revised to be consistent with the current level of geothermal deployment since the nccap was published', 'content_type': 'text', 'score': None, 'meta': {'name': '../data/150723_Kenya_First NDC.pdf', '_split_id': 12}, 'embedding': None, 'id': 'e766f184fe25a7c5894bb97240f8b72e'}>,\n",
       " <Document: {'content': 'adaptation as a minimal contributor to global ghg emissions kenya places significant priority on adapting to the effects of climate change programme of action for adaptation the priority adaptation actions are presented in the nccap and further kenya will ensure enhanced resilience to climate change towards the attainment of elaborated in the nap the actions are based on risk and vulnerability assessments across vision by mainstreaming climate change adaptation into the medium term the mtp sectors many of the actions have strong synergies with mitigation actions plans mtps and implementing adaptation kenya s capacity to undertake strong actions', 'content_type': 'text', 'score': None, 'meta': {'name': '../data/150723_Kenya_First NDC.pdf', '_split_id': 13}, 'embedding': None, 'id': '47453b225ae4664b9697bfaf83ef9384'}>,\n",
       " <Document: {'content': 'any reasonable achievement of the adaptation goal will require financial mitigation actions is dependent upon support for the implementation of these technology and capacity building support adaptation actions mtp sector priority adaptation actions energy increase the resilience of current and future energy systems science technology an d support innovation and development of appropriate technologies that innovations promote climate resilient development ministry of environment and natural resources mtp sector priority adaptation actions public sector reforms integrate climate change adaptation into the public sector reforms', 'content_type': 'text', 'score': None, 'meta': {'name': '../data/150723_Kenya_First NDC.pdf', '_split_id': 14}, 'embedding': None, 'id': '1f46c954c511fa6e5c185883fea1cf5f'}>,\n",
       " <Document: {'content': 'human resource enhance adaptive capacity and resilience of the informal private development labour and sector employment infrastructure climate proofing of infrastructure energy transport buildings ict land reforms mainstream climate change adaptation in land reforms education and training enhance education training public awareness public participation public access to information on climate change adaptation across public and private sectors health strengthen integration of climate change adaptation into the health sector environment enhance climate information services enhance the resilience of ecosystems to climate variability and change', 'content_type': 'text', 'score': None, 'meta': {'name': '../data/150723_Kenya_First NDC.pdf', '_split_id': 15}, 'embedding': None, 'id': 'b0e8a4d894eb1e45ca3432fdfaeaca4b'}>,\n",
       " <Document: {'content': 'water and irrigation mainstream of climate change adaptation in the water sector by implementing the national water master plan population urbanisation enhance the adaptive capacity of the population urbanisation and and housing housing sector gender vulnerable strengthen the adaptive capacity of the most vulnerable groups and groups and youth communities through social safety nets and insurance schemes tourism enhance the resilience of the tourism value chain agriculture livestock enhance the resilience of the agriculture livestock and fisheries value development and fisheries chains by promoting climate smart agriculture and livestock development', 'content_type': 'text', 'score': None, 'meta': {'name': '../data/150723_Kenya_First NDC.pdf', '_split_id': 16}, 'embedding': None, 'id': '5b72081aff97b4b01ffcf48a2627e9c4'}>,\n",
       " <Document: {'content': 'private sector trade create enabling environment for the resilience of private sector manufacturing business investment demonstrate an operational business case process outsourcing financial services oil and mineral resources integrate climate change adaptation into the extractive sector devolution mainstream climate change adaptation into county integrated development plans and implement the ending drought emergencies strategy ministry of environment and natural resources fairness and ambition kenya believes that the key factors in determining the fairness of a contribution should include historical responsibility and respective capability to address climate change', 'content_type': 'text', 'score': None, 'meta': {'name': '../data/150723_Kenya_First NDC.pdf', '_split_id': 17}, 'embedding': None, 'id': '2ad93d65c315977843751c9983df1944'}>,\n",
       " <Document: {'content': 'the unfccc also recognises that the extent to which developing countries will meet their obligations under the convention will depend on the level of support in terms of finance technology and capacity building available kenya s historical contribution is low at of the total global emissions while the per capita emissions are less than mtco eq compared to the global average of mtco eq the country s capability to implement this contribution is also subject to limitations with poverty alleviation and sustainable economic development being the key national objectives increasing the percapita gdp growth equitably above the current levels of is therefore a priority nevertheless kenya places a high priority on response to climate change', 'content_type': 'text', 'score': None, 'meta': {'name': '../data/150723_Kenya_First NDC.pdf', '_split_id': 18}, 'embedding': None, 'id': '5df575347c59359cb78806139626a9a4'}>,\n",
       " <Document: {'content': 'in order to meet the below c objective all countries will need to undertake mitigation based on the common but differentiated responsibilities and respective capabilities in accordance with the convention in addition kenya particularly notes that the lima call to action agrees that each party s contribution will represent a progression beyond the current undertaking of that party kenya is determined to continue playing a leadership role in addressing climate change by communicating a fair and ambitious contribution this intended contribution targets a high proportion of its mitigation potential dependent on the level of support available', 'content_type': 'text', 'score': None, 'meta': {'name': '../data/150723_Kenya_First NDC.pdf', '_split_id': 19}, 'embedding': None, 'id': '67558998fe66bb21ce4d612d0480cca2'}>,\n",
       " <Document: {'content': 'this will involve implementing the priority mitigation and adaptation actions in the nccap to achieve a low carbon climate resilient development in line with vision this is the first time that kenya has stated an intended contribution to global mitigation efforts in addition kenya s indc represents her aspiration to increase the resilience to climate change by introducing a comprehensive programme for adaptation action across sectors in support of livelihoods and economic wellbeing of the kenyan people this represents a high level of fairness and ambition in light of kenya s national circumstances planning process kenya s planning process on mitigation and adaptation hinges on the nccap and the nap', 'content_type': 'text', 'score': None, 'meta': {'name': '../data/150723_Kenya_First NDC.pdf', '_split_id': 20}, 'embedding': None, 'id': 'f26aa03ecb36c7c0b809c3764f576289'}>,\n",
       " <Document: {'content': 'the two shall be reviewed every five years to inform the mtp the adaptation actions are ghg time series per capita emissions for world countries ministry of environment and natural resources further amplified in the nap mitigation and adaptation actions are implemented across the various sectors at both the national and county government levels the ministry of environment and natural resources coordinates the country s climate change affairs through the national climate change secretariat nccs the planning process also takes cognisance of the climate change bill that proposes several institutional reforms to enhance coordination of climate change adaptation and mitigation', 'content_type': 'text', 'score': None, 'meta': {'name': '../data/150723_Kenya_First NDC.pdf', '_split_id': 21}, 'embedding': None, 'id': 'e7740b5e3e52db8e2519613d7aa38ceb'}>,\n",
       " <Document: {'content': 'these include the establishment of a high level national climate change council chaired by the president the council shall provide an overarching national climate change coordination mechanism and among other roles ensure the mainstreaming of climate change functions by the national and county governments and approve and oversee the implementation of the nccap a climate change directorate as the lead agency of the government on national climate change plans and actions to deliver operational coordination and provide technical assistance on climate change actions and responses to county governments', 'content_type': 'text', 'score': None, 'meta': {'name': '../data/150723_Kenya_First NDC.pdf', '_split_id': 22}, 'embedding': None, 'id': 'b8e5af6188d808468a356df49416022c'}>,\n",
       " <Document: {'content': 'kenya climate fund to be a financing mechanism for priority climate change actions and interventions approved by the council in addressing climate change issues public entities are required to undertake public awareness and consultations and ensure gender mainstreaming in line with the constitution and the climate change bill means of implementation kenya s contribution will be implemented with both domestic and international support it is estimated that over usd billion is required for mitigation and adaptation actions across sectors up to', 'content_type': 'text', 'score': None, 'meta': {'name': '../data/150723_Kenya_First NDC.pdf', '_split_id': 23}, 'embedding': None, 'id': 'f023aefdc54ee6a27922fb1cc1371d4c'}>,\n",
       " <Document: {'content': 'kenya will require international support in form of finance investment technology development and transfer and capacitybuilding to fully realize her intended contribution further analysis will be necessary to refine the required investment cost and determine the domestic support', 'content_type': 'text', 'score': None, 'meta': {'name': '../data/150723_Kenya_First NDC.pdf', '_split_id': 24}, 'embedding': None, 'id': '27ec0a25c4eb90d6c44eab9e8b059a77'}>]"
      ]
     },
     "execution_count": 5,
     "metadata": {},
     "output_type": "execute_result"
    }
   ],
   "source": [
    "docs_processed"
   ]
  },
  {
   "cell_type": "code",
   "execution_count": null,
   "id": "a1bcc54f",
   "metadata": {},
   "outputs": [],
   "source": []
  }
 ],
 "metadata": {
  "kernelspec": {
   "display_name": "Python 3 (ipykernel)",
   "language": "python",
   "name": "python3"
  },
  "language_info": {
   "codemirror_mode": {
    "name": "ipython",
    "version": 3
   },
   "file_extension": ".py",
   "mimetype": "text/x-python",
   "name": "python",
   "nbconvert_exporter": "python",
   "pygments_lexer": "ipython3",
   "version": "3.9.7"
  }
 },
 "nbformat": 4,
 "nbformat_minor": 5
}
