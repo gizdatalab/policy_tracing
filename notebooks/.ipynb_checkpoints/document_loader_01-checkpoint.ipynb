{
 "cells": [
  {
   "cell_type": "code",
   "execution_count": 224,
   "id": "a63224a9",
   "metadata": {},
   "outputs": [],
   "source": [
    "# Here are the imports we need\n",
    "from typing import Callable, Dict, List, Optional\n",
    "\n",
    "from pathlib import Path\n",
    "import re\n",
    "import logging\n",
    "import string \n",
    "\n",
    "logger = logging.getLogger(__name__)\n",
    "\n",
    "from haystack.utils import convert_files_to_docs, fetch_archive_from_http\n",
    "from haystack.nodes.file_converter import BaseConverter, DocxToTextConverter, PDFToTextConverter, TextConverter\n",
    "from haystack.schema import Document\n",
    "\n",
    "'''to compare performance to'''\n",
    "import pdfplumber\n",
    "\n",
    "from haystack.nodes import PreProcessor"
   ]
  },
  {
   "cell_type": "code",
   "execution_count": 225,
   "id": "517ed826",
   "metadata": {},
   "outputs": [],
   "source": [
    "file = \"../data/150723_Kenya_First NDC.pdf\""
   ]
  },
  {
   "cell_type": "code",
   "execution_count": 174,
   "id": "3b1d2cfb",
   "metadata": {},
   "outputs": [],
   "source": [
    "file = \"../data/Research_Project_Proposal_15-04-2022.pdf\""
   ]
  },
  {
   "cell_type": "code",
   "execution_count": 178,
   "id": "e22d8cad",
   "metadata": {},
   "outputs": [],
   "source": [
    "file = \"../data/test_docx.docx\""
   ]
  },
  {
   "cell_type": "code",
   "execution_count": 226,
   "id": "d78a648d",
   "metadata": {},
   "outputs": [],
   "source": [
    "#load document\n",
    "\n",
    "def load_document(\n",
    "    file: str,\n",
    "    encoding: Optional[str] = None,\n",
    "    id_hash_keys: Optional[List[str]] = None,\n",
    ") -> List[Document]:\n",
    "    \n",
    "    \n",
    "    \"\"\"\n",
    "    takes docx, txt and pdf files as input and extracts text as well as the filename as metadata. Since haystack\n",
    "    does not take care of all pdf files, pdfplumber is attached to the pipeline in case the pdf extraction fails\n",
    "    via Haystack.\n",
    "    \"\"\"\n",
    "    \n",
    "    if file.endswith('.pdf'):\n",
    "        converter = PDFToTextConverter(remove_numeric_tables=True)\n",
    "    if file.endswith('.txt'):\n",
    "        converter = TextConverter()\n",
    "    if file.endswith('.docx'):\n",
    "        converter = DocxToTextConverter()\n",
    "\n",
    "    print(converter)\n",
    "    documents = []\n",
    "\n",
    "    logger.info(\"Converting {}\".format(file))\n",
    "    # PDFToTextConverter, TextConverter, and DocxToTextConverter return a list containing a single Document\n",
    "    document = converter.convert(\n",
    "                file_path=file, meta=None, encoding=encoding, id_hash_keys=id_hash_keys\n",
    "            )[0]\n",
    "    text = document.content\n",
    "    documents.append(Document(content=text, meta={\"name\": file}, id_hash_keys=id_hash_keys))\n",
    "    \n",
    "    '''check if text is empty and apply different pdf processor. This can happen whith certain pdf types.'''\n",
    "    for i in documents: \n",
    "        if i.content == \"\":\n",
    "            text = []\n",
    "            with pdfplumber.open(file) as pdf:\n",
    "                for page in pdf.pages:\n",
    "                    text.append(page.extract_text())\n",
    "            i.content = ' '.join([page for page in text])\n",
    "        \n",
    "    return documents\n",
    "    "
   ]
  },
  {
   "cell_type": "code",
   "execution_count": 227,
   "id": "755fca31",
   "metadata": {},
   "outputs": [
    {
     "name": "stderr",
     "output_type": "stream",
     "text": [
      "pdftotext version 4.04 [www.xpdfreader.com]\n",
      "Copyright 1996-2022 Glyph & Cog, LLC\n",
      "pdftotext version 4.04 [www.xpdfreader.com]\n",
      "Copyright 1996-2022 Glyph & Cog, LLC\n",
      "Usage: pdftotext [options] <PDF-file> [<text-file>]\n",
      "  -f <int>               : first page to convert\n",
      "  -l <int>               : last page to convert\n",
      "  -layout                : maintain original physical layout\n",
      "  -simple                : simple one-column page layout\n",
      "  -simple2               : simple one-column page layout, version 2\n",
      "  -table                 : similar to -layout, but optimized for tables\n",
      "  -lineprinter           : use strict fixed-pitch/height layout\n",
      "  -raw                   : keep strings in content stream order\n",
      "  -fixed <number>        : assume fixed-pitch (or tabular) text\n",
      "  -linespacing <number>  : fixed line spacing for LinePrinter mode\n",
      "  -clip                  : separate clipped text\n",
      "  -nodiag                : discard diagonal text\n",
      "  -enc <string>          : output text encoding name\n",
      "  -eol <string>          : output end-of-line convention (unix, dos, or mac)\n",
      "  -nopgbrk               : don't insert a page break at the end of each page\n",
      "  -bom                   : insert a Unicode BOM at the start of the text file\n",
      "  -marginl <number>      : left page margin\n",
      "  -marginr <number>      : right page margin\n",
      "  -margint <number>      : top page margin\n",
      "  -marginb <number>      : bottom page margin\n",
      "  -opw <string>          : owner password (for encrypted files)\n",
      "  -upw <string>          : user password (for encrypted files)\n",
      "  -verbose               : print per-page status information\n",
      "  -q                     : don't print any messages or errors\n",
      "  -cfg <string>          : configuration file to use in place of .xpdfrc\n",
      "  -listencodings         : list all available output text encodings\n",
      "  -v                     : print copyright and version info\n",
      "  -h                     : print usage information\n",
      "  -help                  : print usage information\n",
      "  --help                 : print usage information\n",
      "  -?                     : print usage information\n"
     ]
    },
    {
     "name": "stdout",
     "output_type": "stream",
     "text": [
      "<haystack.nodes.file_converter.pdf.PDFToTextConverter object at 0x7f901a7ef1f0>\n"
     ]
    }
   ],
   "source": [
    "docs = load_document(file)"
   ]
  },
  {
   "cell_type": "code",
   "execution_count": 228,
   "id": "a04b1437",
   "metadata": {},
   "outputs": [
    {
     "data": {
      "text/plain": [
       "[<Document: {'content': \" \\n \\nMINISTRY OF ENVIRONMENT AND NATURAL RESOURCES \\n   \\nKenya’s Intended Nationally Determined Contribution (INDC) \\n23 July 2015 \\n1.  Introduction \\nKenya, like other countries in the region, is bearing the brunt of climate change impacts \\nand  the  associated  socio-economic  losses.  The  situation  is  exacerbated  by  the  high \\ndependence on climate sensitive natural resources. In response to the challenges posed by \\nClimate  Change,  Kenya  has  developed  a  National  Climate  Change  Response  Strategy \\n(NCCRS  2010),  National  Climate  Change  Action  Plan  (NCCAP  2013),  and  a  National \\nAdaptation Plan (NAP) - under preparation which provides a vision for low carbon and \\nclimate resilient development pathway, while a National Climate Change Framework Policy \\nand legislation are in their final stages of enactment to facilitate effective response to \\nclimate  change.  Kenya  is  operationalising  these  policies  and  plans  through  the \\nimplementation  of  climate  change  actions  in  various  areas  such  as  afforestation  and \\nreforestation, geothermal and other clean energy development, energy efficiency, climate \\nsmart agriculture, and drought management. \\nThis document presents Kenya’s Intended Nationally Determined Contribution (INDC) in \\nresponse to decisions adopted at the 19th and 20th sessions of the Conference of the Parties \\nto the United Nations Framework Convention on Climate Change (UNFCCC); that invite \\nParties to communicate to the Secretariat their INDCs, towards achieving the objective of \\nthe UNFCCC as set out in Article 2 of the Convention. \\nKenya’s INDC builds on the participatory multi-stakeholder and cross-sectoral consultative \\nprocesses during the development of NCCRS and NCCAP at national and county levels. The \\ncontribution will also contribute towards the delivery of the Constitution of Kenya and the \\nattainment of Vision 2030, the country’s development blueprint. \\n1.1 National Circumstances \\nKenya is located in the Greater Horn of Africa region, which is highly vulnerable to the \\nimpacts of climate change. More than 80% of the country’s landmass is arid and semi-arid \\nland (ASAL) with poor infrastructure, and other developmental challenges. The country’s \\neconomy is highly dependent on climate sensitive sectors such as agriculture that is mainly \\nrain-fed, energy, tourism, water and health. Climate hazards have caused considerable \\nlosses  across  the  country’s  different  sectors  over  the  years.  The  main  climate  hazards \\ninclude droughts and floods which cause economic losses estimated at 3% of the country’s \\nGross Domestic Product (GDP). \\nKenya’s total greenhouse gas (GHG) emissions are relatively low, standing at 73 MtCO eq \\n2\\nin 2010, out of which 75% are from the land use, land-use change and forestry (LULUCF) \\nand agriculture sectors. This may be explained by the reliance on wood fuel by a large \\nproportion of the population coupled with the increasing demand for agricultural land and \\n \\n   \\n \\nMINISTRY OF ENVIRONMENT AND NATURAL RESOURCES \\n   \\nurban development. The other significant emissions are from the energy and transport \\nsectors, with the waste and industrial processes contributing negligible amounts. \\nKenya  strives  to  be  a  newly  industrialised  middle  income  country  by  2030.  This \\ndevelopment is expected to increase emissions from the energy sector. The current energy \\nmix, however, is mainly clean with deliberate efforts by Government towards enhancing \\ngeothermal, wind, solar and other clean energy development.  \\nClimate change impacts continue to slow down the attainment of its national development \\ngoals.  Kenya  will  continue  making  investments  with  both  domestic  and  international \\nresources to adapt to climate change and realise its abatement potentials.  \\n \\n2.  Contribution \\nKenya’s INDC includes both mitigation and adaptation components based on her national \\ncircumstances and in line with decisions 1/CP.19 and 1/CP.20.  \\n2.1 Mitigation \\nKenya  aims  to  achieve  a  low  carbon, \\nclimate resilient development pathway.   Kenya  seeks  to  undertake  an  ambitious \\nmitigation  contribution  towards  the  2015 \\nKenya will continue to implement the \\nAgreement. Kenya therefore seeks to abate its \\nNCCAP  (2013-2017),  and  subsequent \\nGHG emissions by 30% by 2030 relative to \\naction  plans  beyond  this  period  to \\nthe BAU scenario of 143 MtCO eq; and in \\nachieve this target. This will include the  2\\nline with its sustainable development agenda.  \\npromotion  and  implementation  of  the \\nThis is also subject to international support in \\nfollowing mitigation activities.  \\nthe form of finance, investment, technology \\ndevelopment  and  transfer,  and  capacity \\n\\uf0b7  Expansion  in  geothermal,  solar \\nand  wind  energy  production,  building. \\nother  renewables  and  clean \\nenergy options. \\n\\uf0b7  Enhancement of Energy and resource efficiency across the different sectors. \\n\\uf0b7  Make progress towards achieving a tree cover of at least 10% of the land area of \\nKenya.  \\n\\uf0b7  Clean energy technologies to reduce overreliance on wood fuels.  \\n\\uf0b7  Low carbon and efficient transportation systems. \\n\\uf0b7  Climate smart agriculture (CSA) in line with the National CSA Framework.  \\n\\uf0b7  Sustainable waste management systems. \\n \\n   \\n \\nMINISTRY OF ENVIRONMENT AND NATURAL RESOURCES \\n   \\n \\n2.1.1  Information to facilitate clarity, transparency and understanding \\nTimeframe for  The timeframe for implementation of the INDC is up to 2030.  \\nimplementation  \\nScope of gases  Carbon dioxide (CO ), Methane (CH ), and Nitrous Oxide (N O) \\n2 4 2\\nincluded in the  are prioritised. \\ncontribution \\nSectors covered by  The  IPCC  Guidelines  for  all  sectors:  Energy,  Transportation, \\nthe contribution  Industrial  Processes,  Agriculture,  Forestry  and  Other  Land  Use \\n(AFOLU) and waste sector. \\nAssumptions and methodological approaches  \\nMethodology for  The IPCC Revised 1996 Guidelines for National Greenhouse Gas \\nemissions  Inventories  and  the  Good  Practise  Guidance  and  Uncertainty \\naccounting   Management in National Greenhouse Gas Inventories were used to \\ncalculate the GHG emissions and removals as described in the \\nSecond  National  Communication.  Emissions  of  carbon  dioxide \\nfrom  the  combustion  of  biomass  are  assessed  but  not  counted \\ntowards the contribution. \\nFuture  contribution  from  the  extractive  sector  has  not  been \\nincluded in the accounting. \\nGlobal warming  The carbon dioxide equivalent was calculated using the 100 year \\npotentials  global  warming  potentials  in  accordance  with  the  IPCC  2nd \\nAssessment Report. \\nApproaches to land  This includes emissions from the land use, land-use change and \\nsector emissions   forestry  (LULUCF)  sector.  Relevant  national  policy  documents \\nand the  FAO's Global  Forest  Resource  Assessment  2010  for \\nKenya were used. A global land-use data approach was used, as \\ndescribed in the 2003 IPCC Good Practice Guidance for LULUCF. \\n A state and transition model consistent with the 1996 Revised \\nIPCC Guidelines was used to calculate fluxes of CO  to (or from) \\n2\\nthe atmosphere and biomass carbon pools is the same as outlined \\nin  the 1996  Revised  IPCC  Guidelines.  There  is  significant \\nuncertainty in the BAU emission and mitigation potential estimates \\nfor this sector and work is underway to update and improve these \\nestimates. \\nContribution of  Kenya does not rule out the use of international market-based \\nInternational  mechanisms in line with agreed accounting rules. \\n \\n   \\n \\nMINISTRY OF ENVIRONMENT AND NATURAL RESOURCES \\n   \\nMarket Based \\nMechanism \\nReference Point \\nBAU emissions in  Business-as-usual  (BAU)  emissions  are  estimated  to  be  143 \\nthe target year  MtCO eq)  by  2030.  This  excludes  future  exploitation  in  the \\n2\\nextractive sector. \\nBAU projection  The BAU projection methodology is detailed within the NCCAP and \\nmethodology   the  Second  National  Communication  (SNC),  including  key \\nassumptions, drivers and methodologies for each sector. The base \\nyear is 2010. For geothermal energy, note that the BAU projection \\ncontained in the NCCAP and SNC has been revised to be consistent \\nwith the current level of geothermal deployment since the NCCAP \\nwas published.   \\n \\n2.2  Adaptation \\nAs a minimal contributor to global GHG emissions, Kenya places significant priority on \\nadapting to the effects of climate change.  \\n \\n2.2.1  Programme of action for adaptation \\nThe  priority  adaptation  actions  are \\npresented  in  the  NCCAP  and  further  Kenya will ensure enhanced resilience to \\nclimate change towards the attainment of \\nelaborated in the NAP. The actions are based \\non risk and vulnerability assessments across  Vision  2030  by  mainstreaming  climate \\nchange adaptation into the Medium Term \\nthe MTP sectors. Many of the actions have \\nstrong  synergies  with  mitigation  actions.  Plans (MTPs) and implementing adaptation \\nKenya’s  capacity  to  undertake  strong  actions. Any reasonable achievement of the \\nadaptation  goal  will  require  financial, \\nmitigation  actions  is  dependent  upon \\nsupport  for  the  implementation  of  these  technology and capacity building support. \\nadaptation actions. \\n\\uf0b7  MTP SECTOR  \\uf0b7  PRIORITY ADAPTATION ACTIONS  \\n\\uf0b7  Energy  \\uf0b7  Increase the resilience of current and future energy systems. \\n\\uf0b7  Science,  Technology  an\\uf0b7d   Support innovation and development of appropriate technologies that \\ninnovations  promote climate resilient development. \\n \\n   \\n \\nMINISTRY OF ENVIRONMENT AND NATURAL RESOURCES \\n   \\n\\uf0b7  MTP SECTOR  \\uf0b7  PRIORITY ADAPTATION ACTIONS  \\nPublic sector reforms  Integrate climate change adaptation into the public sector reforms.  \\n\\uf0b7  Human Resource  \\uf0b7  Enhance  adaptive  capacity  and  resilience  of  the  informal  private \\nDevelopment, Labour and  sector. \\nEmployment \\n\\uf0b7  Infrastructure  \\uf0b7  Climate proofing of infrastructure (energy, transport, buildings, ICT). \\n\\uf0b7  Land Reforms  \\uf0b7  Mainstream climate change adaptation in land reforms. \\nEducation and training  Enhance education, training, public awareness, public participation, \\npublic  access  to  information  on  climate  change  adaptation  across \\npublic and private sectors.  \\nHealth  Strengthen integration of climate change adaptation into the health \\nsector. \\nEnvironment  Enhance climate information services. \\nEnhance  the  resilience  of  ecosystems  to  climate  variability  and \\nchange. \\nWater and irrigation  Mainstream  of  climate  change  adaptation  in  the  water  sector  by \\nimplementing the National Water Master Plan (2014). \\nPopulation,  urbanisation  Enhance the adaptive capacity of the population, urbanisation and \\nand housing  housing sector. \\nGender,  Vulnerable  Strengthen the adaptive capacity of the most vulnerable groups and \\nGroups and Youth  communities through social safety nets and insurance schemes. \\nTourism  Enhance the resilience of the tourism value chain. \\nAgriculture,  livestock  Enhance the resilience of the agriculture, livestock and fisheries value \\ndevelopment and fisheries  chains  by  promoting  climate  smart  agriculture  and  livestock \\ndevelopment. \\nPrivate  Sector/  Trade;  Create  enabling  environment  for  the  resilience  of  private  sector \\nManufacturing;  Business  investment, demonstrate an operational business case. \\nProcess  Outsourcing, \\nFinancial services \\nOil and mineral resources  Integrate climate change adaptation into the extractive sector. \\nDevolution  Mainstream  climate  change  adaptation  into  county  integrated \\ndevelopment plans and implement the Ending Drought Emergencies \\nStrategy.  \\n \\n \\n   \\n \\nMINISTRY OF ENVIRONMENT AND NATURAL RESOURCES \\n   \\n \\n3.  Fairness and ambition  \\nKenya believes that the key factors in determining the fairness of a contribution should \\ninclude historical responsibility and respective capability to address climate change. The \\nUNFCCC also recognises that the extent to which developing countries will meet their \\nobligations under the Convention will depend on the level of support in terms of finance, \\ntechnology and capacity building available.  \\nKenya’s historical contribution is low, at 0.1% of the total global emissions, while the per-\\ncapita emissions are less than 1.26 MtCO eq compared to the global average of 7.58 \\n2\\nMtCO eq 1. \\n2\\nThe country’s capability to implement this contribution is also subject to limitations; with \\npoverty  alleviation  and  sustainable  economic  development  being  the  key  national \\nobjectives. Increasing the per-capita GDP growth equitably above the current levels of 4.1% \\nis therefore a priority. \\nNevertheless, Kenya places a high priority on response to climate change.  In order to meet \\nthe below 2 \\uf0b0C objective, all countries will need to undertake mitigation based on the \\ncommon but differentiated responsibilities and respective capabilities in accordance with \\nthe Convention. In addition, Kenya particularly notes that the Lima Call to Action agrees \\nthat each Party’s contribution will “represent a progression beyond the current undertaking \\nof that Party”. \\nKenya is determined to continue playing a leadership role in addressing climate change by \\ncommunicating a fair and ambitious contribution. This intended contribution targets a high \\nproportion of its mitigation potential, dependent on the level of support available. This will \\ninvolve  implementing  the  priority  mitigation  and  adaptation  actions  in  the  NCCAP  to \\nachieve a low carbon climate resilient development in line with Vision 2030.  \\nThis is the first time that Kenya has stated an intended contribution to global mitigation \\nefforts. In addition, Kenya’s INDC represents her aspiration to increase the resilience to \\nclimate change by introducing a comprehensive programme for adaptation action across \\nsectors in support of livelihoods, and economic well-being of the Kenyan people. This \\nrepresents a high level of fairness and ambition in light of Kenya’s national circumstances. \\n \\n4.  Planning process \\nKenya’s planning process on mitigation and adaptation hinges on the NCCAP and the NAP. \\nThe two shall be reviewed every five years to inform the MTP. The adaptation actions are \\n                                                           \\n1 GHG time series 1990-2012 per capita emissions for world countries \\nhttp://edgar.jrc.ec.europa.eu/overview.php?v=GHGts_pc1990-2012 \\n \\n   \\n \\nMINISTRY OF ENVIRONMENT AND NATURAL RESOURCES \\n   \\nfurther amplified in the NAP. Mitigation and adaptation actions are implemented across the \\nvarious  sectors  at  both  the  national  and  county  government  levels.  The  Ministry  of \\nEnvironment  and  Natural  Resources  coordinates  the  country’s  climate  change  affairs \\nthrough the National Climate Change Secretariat (NCCS).  \\nThe planning process also takes cognisance of the Climate Change Bill (2014) that proposes \\nseveral institutional reforms to enhance coordination of climate change adaptation and \\nmitigation. These include the establishment of:  \\n\\uf0b7  A high level National Climate Change Council chaired by the President. The Council \\nshall provide an overarching national climate change coordination mechanism and, \\namong other roles, ensure the mainstreaming of climate change functions by the \\nNational and County governments, and approve and oversee the implementation of \\nthe NCCAP. \\n\\uf0b7   A Climate Change Directorate as the lead agency of the government on national \\nclimate change plans and actions to deliver operational coordination; and provide \\ntechnical  assistance  on  climate  change  actions  and  responses  to  County \\ngovernments. \\n\\uf0b7  Kenya  Climate  Fund  to  be  a  financing  mechanism  for  priority  climate  change \\nactions and interventions approved by the Council. \\nIn  addressing  climate  change  issues,  public  entities  are  required  to  undertake  public \\nawareness  and  consultations,  and  ensure  gender  mainstreaming,  in  line  with  the \\nConstitution and the Climate Change Bill (2014). \\n \\n5.  Means of implementation \\nKenya’s contribution will be implemented with both domestic and international support. \\nIt is estimated that over USD 40 billion is required for mitigation and adaptation actions \\nacross sectors up to 2030. Kenya will require international support in form of finance, \\ninvestment, technology development and transfer, and capacity-building to fully realize her \\nintended contribution. Further analysis will be necessary to refine the required investment \\ncost and determine the domestic support.  \\n \\n \", 'content_type': 'text', 'score': None, 'meta': {'name': '../data/150723_Kenya_First NDC.pdf'}, 'embedding': None, 'id': '00'}>]"
      ]
     },
     "execution_count": 228,
     "metadata": {},
     "output_type": "execute_result"
    }
   ],
   "source": [
    "docs"
   ]
  },
  {
   "cell_type": "code",
   "execution_count": 239,
   "id": "d0e38046",
   "metadata": {},
   "outputs": [
    {
     "name": "stderr",
     "output_type": "stream",
     "text": [
      "\n",
      "100%|█████████████████████████████████████████████████████████████████████████████████████████████████████████████████████████████████████████████████| 1/1 [00:00<00:00, 83.93docs/s]\u001b[A"
     ]
    },
    {
     "name": "stdout",
     "output_type": "stream",
     "text": [
      "n_docs_input: 1\n",
      "n_docs_output: 41\n"
     ]
    },
    {
     "name": "stderr",
     "output_type": "stream",
     "text": [
      "\n"
     ]
    }
   ],
   "source": [
    "preprocessor = PreProcessor(\n",
    "    clean_empty_lines=True,\n",
    "    clean_whitespace=True,\n",
    "    clean_header_footer=True,\n",
    "    split_by=\"word\",\n",
    "    split_length=100,\n",
    "    split_respect_sentence_boundary=True,\n",
    "    split_overlap=10\n",
    ")\n",
    "for i in docs:\n",
    "    docs_default = preprocessor.process([i])\n",
    "print(f\"n_docs_input: 1\\nn_docs_output: {len(docs_default)}\")"
   ]
  },
  {
   "cell_type": "code",
   "execution_count": 241,
   "id": "37db961a",
   "metadata": {},
   "outputs": [
    {
     "data": {
      "text/plain": [
       "[<Document: {'content': '\\n\\nMINISTRY OF ENVIRONMENT AND NATURAL RESOURCES\\n\\nKenya’s Intended Nationally Determined Contribution (INDC)\\n23 July 2015\\n1. Introduction\\nKenya, like other countries in the region, is bearing the brunt of climate change impacts\\nand  the  associated  socio-economic  losses. The  situation  is  exacerbated  by  the  high\\ndependence on climate sensitive natural resources.', 'content_type': 'text', 'score': None, 'meta': {'name': '../data/150723_Kenya_First NDC.pdf', '_split_id': 0}, 'embedding': None, 'id': '83a7752488a4ac0fbadcf94486d6c2e0'}>,\n",
       " <Document: {'content': 'The  situation  is  exacerbated  by  the  high\\ndependence on climate sensitive natural resources. In response to the challenges posed by\\nClimate  Change,  Kenya  has  developed  a  National  Climate  Change  Response  Strategy\\n(NCCRS  2010),  National  Climate  Change  Action  Plan  (NCCAP  2013),  and  a  National\\nAdaptation Plan (NAP) - under preparation which provides a vision for low carbon and\\nclimate resilient development pathway, while a National Climate Change Framework Policy\\nand legislation are in their final stages of enactment to facilitate effective response to\\nclimate  change.', 'content_type': 'text', 'score': None, 'meta': {'name': '../data/150723_Kenya_First NDC.pdf', '_split_id': 1}, 'embedding': None, 'id': '484bfc357a78e0b279cd442f68a7f93e'}>,\n",
       " <Document: {'content': 'In response to the challenges posed by\\nClimate  Change,  Kenya  has  developed  a  National  Climate  Change  Response  Strategy\\n(NCCRS  2010),  National  Climate  Change  Action  Plan  (NCCAP  2013),  and  a  National\\nAdaptation Plan (NAP) - under preparation which provides a vision for low carbon and\\nclimate resilient development pathway, while a National Climate Change Framework Policy\\nand legislation are in their final stages of enactment to facilitate effective response to\\nclimate  change. Kenya  is  operationalising  these  policies  and  plans  through  the\\nimplementation  of  climate  change  actions  in  various  areas  such  as  afforestation  and\\nreforestation, geothermal and other clean energy development, energy efficiency, climate\\nsmart agriculture, and drought management.', 'content_type': 'text', 'score': None, 'meta': {'name': '../data/150723_Kenya_First NDC.pdf', '_split_id': 2}, 'embedding': None, 'id': '67d08a09c5e005c5d5c3bf995e827cb0'}>,\n",
       " <Document: {'content': 'Kenya  is  operationalising  these  policies  and  plans  through  the\\nimplementation  of  climate  change  actions  in  various  areas  such  as  afforestation  and\\nreforestation, geothermal and other clean energy development, energy efficiency, climate\\nsmart agriculture, and drought management. This document presents Kenya’s Intended Nationally Determined Contribution (INDC) in\\nresponse to decisions adopted at the 19th and 20th sessions of the Conference of the Parties\\nto the United Nations Framework Convention on Climate Change (UNFCCC); that invite\\nParties to communicate to the Secretariat their INDCs, towards achieving the objective of\\nthe UNFCCC as set out in Article 2 of the Convention.', 'content_type': 'text', 'score': None, 'meta': {'name': '../data/150723_Kenya_First NDC.pdf', '_split_id': 3}, 'embedding': None, 'id': '249f5bb39fde31b215d2da1e94bf602c'}>,\n",
       " <Document: {'content': 'This document presents Kenya’s Intended Nationally Determined Contribution (INDC) in\\nresponse to decisions adopted at the 19th and 20th sessions of the Conference of the Parties\\nto the United Nations Framework Convention on Climate Change (UNFCCC); that invite\\nParties to communicate to the Secretariat their INDCs, towards achieving the objective of\\nthe UNFCCC as set out in Article 2 of the Convention. Kenya’s INDC builds on the participatory multi-stakeholder and cross-sectoral consultative\\nprocesses during the development of NCCRS and NCCAP at national and county levels.', 'content_type': 'text', 'score': None, 'meta': {'name': '../data/150723_Kenya_First NDC.pdf', '_split_id': 4}, 'embedding': None, 'id': '328ef09fd859ecdbcbee70ce42ba8738'}>,\n",
       " <Document: {'content': 'Kenya’s INDC builds on the participatory multi-stakeholder and cross-sectoral consultative\\nprocesses during the development of NCCRS and NCCAP at national and county levels. The\\ncontribution will also contribute towards the delivery of the Constitution of Kenya and the\\nattainment of Vision 2030, the country’s development blueprint. 1.1 National Circumstances\\nKenya is located in the Greater Horn of Africa region, which is highly vulnerable to the\\nimpacts of climate change. More than 80% of the country’s landmass is arid and semi-arid\\nland (ASAL) with poor infrastructure, and other developmental challenges.', 'content_type': 'text', 'score': None, 'meta': {'name': '../data/150723_Kenya_First NDC.pdf', '_split_id': 5}, 'embedding': None, 'id': 'd7667c7ea433432b02925f08ae07d029'}>,\n",
       " <Document: {'content': 'More than 80% of the country’s landmass is arid and semi-arid\\nland (ASAL) with poor infrastructure, and other developmental challenges. The country’s\\neconomy is highly dependent on climate sensitive sectors such as agriculture that is mainly\\nrain-fed, energy, tourism, water and health. Climate hazards have caused considerable\\nlosses  across  the  country’s  different  sectors  over  the  years. The  main  climate  hazards\\ninclude droughts and floods which cause economic losses estimated at 3% of the country’s\\nGross Domestic Product (GDP).', 'content_type': 'text', 'score': None, 'meta': {'name': '../data/150723_Kenya_First NDC.pdf', '_split_id': 6}, 'embedding': None, 'id': 'b57dbe9dacf939dbe35a12b5eb014817'}>,\n",
       " <Document: {'content': 'The  main  climate  hazards\\ninclude droughts and floods which cause economic losses estimated at 3% of the country’s\\nGross Domestic Product (GDP). Kenya’s total greenhouse gas (GHG) emissions are relatively low, standing at 73 MtCO eq\\n2\\nin 2010, out of which 75% are from the land use, land-use change and forestry (LULUCF)\\nand agriculture sectors. This may be explained by the reliance on wood fuel by a large\\nproportion of the population coupled with the increasing demand for agricultural land and\\n\\nMINISTRY OF ENVIRONMENT AND NATURAL RESOURCES\\n\\nurban development.', 'content_type': 'text', 'score': None, 'meta': {'name': '../data/150723_Kenya_First NDC.pdf', '_split_id': 7}, 'embedding': None, 'id': '8d060acb1ba776160c77a6334b073cb4'}>,\n",
       " <Document: {'content': 'This may be explained by the reliance on wood fuel by a large\\nproportion of the population coupled with the increasing demand for agricultural land and\\n\\nMINISTRY OF ENVIRONMENT AND NATURAL RESOURCES\\n\\nurban development. The other significant emissions are from the energy and transport\\nsectors, with the waste and industrial processes contributing negligible amounts. Kenya  strives  to  be  a  newly  industrialised  middle  income  country  by  2030. This\\ndevelopment is expected to increase emissions from the energy sector.', 'content_type': 'text', 'score': None, 'meta': {'name': '../data/150723_Kenya_First NDC.pdf', '_split_id': 8}, 'embedding': None, 'id': 'b547113d252042ce360f475470088d35'}>,\n",
       " <Document: {'content': 'This\\ndevelopment is expected to increase emissions from the energy sector. The current energy\\nmix, however, is mainly clean with deliberate efforts by Government towards enhancing\\ngeothermal, wind, solar and other clean energy development. Climate change impacts continue to slow down the attainment of its national development\\ngoals. Kenya  will  continue  making  investments  with  both  domestic  and  international\\nresources to adapt to climate change and realise its abatement potentials. 2. Contribution\\nKenya’s INDC includes both mitigation and adaptation components based on her national\\ncircumstances and in line with decisions 1/CP.19 and 1/CP.20.', 'content_type': 'text', 'score': None, 'meta': {'name': '../data/150723_Kenya_First NDC.pdf', '_split_id': 9}, 'embedding': None, 'id': '530b7b2d056893bf7ca7b9e3fc6c03c6'}>,\n",
       " <Document: {'content': 'Contribution\\nKenya’s INDC includes both mitigation and adaptation components based on her national\\ncircumstances and in line with decisions 1/CP.19 and 1/CP.20. 2.1 Mitigation\\nKenya  aims  to  achieve  a  low  carbon,\\nclimate resilient development pathway. Kenya  seeks  to  undertake  an  ambitious\\nmitigation  contribution  towards  the  2015\\nKenya will continue to implement the\\nAgreement. Kenya therefore seeks to abate its\\nNCCAP  (2013-2017),  and  subsequent\\nGHG emissions by 30% by 2030 relative to\\naction  plans  beyond  this  period  to\\nthe BAU scenario of 143 MtCO eq; and in\\nachieve this target.', 'content_type': 'text', 'score': None, 'meta': {'name': '../data/150723_Kenya_First NDC.pdf', '_split_id': 10}, 'embedding': None, 'id': 'f25fa9e316dc50a308ed6e61256fff16'}>,\n",
       " <Document: {'content': 'Kenya therefore seeks to abate its\\nNCCAP  (2013-2017),  and  subsequent\\nGHG emissions by 30% by 2030 relative to\\naction  plans  beyond  this  period  to\\nthe BAU scenario of 143 MtCO eq; and in\\nachieve this target. This will include the  2\\nline with its sustainable development agenda. promotion  and  implementation  of  the\\nThis is also subject to international support in\\nfollowing mitigation activities. the form of finance, investment, technology\\ndevelopment  and  transfer,  and  capacity\\n\\uf0b7  Expansion  in  geothermal,  solar\\nand  wind  energy  production,  building.', 'content_type': 'text', 'score': None, 'meta': {'name': '../data/150723_Kenya_First NDC.pdf', '_split_id': 11}, 'embedding': None, 'id': 'e8c7870e578d180774ce45c95873aac5'}>,\n",
       " <Document: {'content': 'the form of finance, investment, technology\\ndevelopment  and  transfer,  and  capacity\\n\\uf0b7  Expansion  in  geothermal,  solar\\nand  wind  energy  production,  building. other  renewables  and  clean\\nenergy options. \\uf0b7  Enhancement of Energy and resource efficiency across the different sectors. \\uf0b7  Make progress towards achieving a tree cover of at least 10% of the land area of\\nKenya. \\uf0b7  Clean energy technologies to reduce overreliance on wood fuels. \\uf0b7  Low carbon and efficient transportation systems. \\uf0b7  Climate smart agriculture (CSA) in line with the National CSA Framework.', 'content_type': 'text', 'score': None, 'meta': {'name': '../data/150723_Kenya_First NDC.pdf', '_split_id': 12}, 'embedding': None, 'id': '4946ca739b27fac760e5e7fbba270d03'}>,\n",
       " <Document: {'content': '\\uf0b7  Climate smart agriculture (CSA) in line with the National CSA Framework. \\uf0b7  Sustainable waste management systems. MINISTRY OF ENVIRONMENT AND NATURAL RESOURCES\\n\\n2.1.1  Information to facilitate clarity, transparency and understanding\\nTimeframe for  The timeframe for implementation of the INDC is up to 2030.\\nimplementation\\nScope of gases  Carbon dioxide (CO ), Methane (CH ), and Nitrous Oxide (N O)\\n2 4 2\\nincluded in the  are prioritised.', 'content_type': 'text', 'score': None, 'meta': {'name': '../data/150723_Kenya_First NDC.pdf', '_split_id': 13}, 'embedding': None, 'id': 'aaf48b42ccb18a4e31521761d01ff5ac'}>,\n",
       " <Document: {'content': 'MINISTRY OF ENVIRONMENT AND NATURAL RESOURCES\\n\\n2.1.1  Information to facilitate clarity, transparency and understanding\\nTimeframe for  The timeframe for implementation of the INDC is up to 2030.\\nimplementation\\nScope of gases  Carbon dioxide (CO ), Methane (CH ), and Nitrous Oxide (N O)\\n2 4 2\\nincluded in the  are prioritised. contribution\\nSectors covered by  The  IPCC  Guidelines  for  all  sectors:  Energy,  Transportation,\\nthe contribution  Industrial  Processes,  Agriculture,  Forestry  and  Other  Land  Use\\n(AFOLU) and waste sector.', 'content_type': 'text', 'score': None, 'meta': {'name': '../data/150723_Kenya_First NDC.pdf', '_split_id': 14}, 'embedding': None, 'id': '54f1d01bf52b1e62e27d1943d1a568b8'}>,\n",
       " <Document: {'content': 'contribution\\nSectors covered by  The  IPCC  Guidelines  for  all  sectors:  Energy,  Transportation,\\nthe contribution  Industrial  Processes,  Agriculture,  Forestry  and  Other  Land  Use\\n(AFOLU) and waste sector. Assumptions and methodological approaches\\nMethodology for  The IPCC Revised 1996 Guidelines for National Greenhouse Gas\\nemissions  Inventories  and  the  Good  Practise  Guidance  and  Uncertainty\\naccounting   Management in National Greenhouse Gas Inventories were used to\\ncalculate the GHG emissions and removals as described in the\\nSecond  National  Communication.', 'content_type': 'text', 'score': None, 'meta': {'name': '../data/150723_Kenya_First NDC.pdf', '_split_id': 15}, 'embedding': None, 'id': '2e76c0825fb0438e6c15b9fc5c5d641f'}>,\n",
       " <Document: {'content': 'Assumptions and methodological approaches\\nMethodology for  The IPCC Revised 1996 Guidelines for National Greenhouse Gas\\nemissions  Inventories  and  the  Good  Practise  Guidance  and  Uncertainty\\naccounting   Management in National Greenhouse Gas Inventories were used to\\ncalculate the GHG emissions and removals as described in the\\nSecond  National  Communication. Emissions  of  carbon  dioxide\\nfrom  the  combustion  of  biomass  are  assessed  but  not  counted\\ntowards the contribution.', 'content_type': 'text', 'score': None, 'meta': {'name': '../data/150723_Kenya_First NDC.pdf', '_split_id': 16}, 'embedding': None, 'id': '289aa52209379c07060972fe44a8fb9c'}>,\n",
       " <Document: {'content': 'Emissions  of  carbon  dioxide\\nfrom  the  combustion  of  biomass  are  assessed  but  not  counted\\ntowards the contribution. Future  contribution  from  the  extractive  sector  has  not  been\\nincluded in the accounting. Global warming  The carbon dioxide equivalent was calculated using the 100 year\\npotentials  global  warming  potentials  in  accordance  with  the  IPCC  2nd\\nAssessment Report.', 'content_type': 'text', 'score': None, 'meta': {'name': '../data/150723_Kenya_First NDC.pdf', '_split_id': 17}, 'embedding': None, 'id': '6893ebce3e9cc3ed314d20467d1756a0'}>,\n",
       " <Document: {'content': \"Global warming  The carbon dioxide equivalent was calculated using the 100 year\\npotentials  global  warming  potentials  in  accordance  with  the  IPCC  2nd\\nAssessment Report. Approaches to land  This includes emissions from the land use, land-use change and\\nsector emissions   forestry  (LULUCF)  sector. Relevant  national  policy  documents\\nand the  FAO's Global  Forest  Resource  Assessment  2010  for\\nKenya were used. A global land-use data approach was used, as\\ndescribed in the 2003 IPCC Good Practice Guidance for LULUCF.\", 'content_type': 'text', 'score': None, 'meta': {'name': '../data/150723_Kenya_First NDC.pdf', '_split_id': 18}, 'embedding': None, 'id': '11764925488c99a4340aec0100ec0a7a'}>,\n",
       " <Document: {'content': 'A global land-use data approach was used, as\\ndescribed in the 2003 IPCC Good Practice Guidance for LULUCF. A state and transition model consistent with the 1996 Revised\\nIPCC Guidelines was used to calculate fluxes of CO  to (or from)\\n2\\nthe atmosphere and biomass carbon pools is the same as outlined\\nin  the 1996  Revised  IPCC  Guidelines. There  is  significant\\nuncertainty in the BAU emission and mitigation potential estimates\\nfor this sector and work is underway to update and improve these\\nestimates.', 'content_type': 'text', 'score': None, 'meta': {'name': '../data/150723_Kenya_First NDC.pdf', '_split_id': 19}, 'embedding': None, 'id': '6af33ba5ffe99e66e358692dd03564fe'}>,\n",
       " <Document: {'content': 'There  is  significant\\nuncertainty in the BAU emission and mitigation potential estimates\\nfor this sector and work is underway to update and improve these\\nestimates. Contribution of  Kenya does not rule out the use of international market-based\\nInternational  mechanisms in line with agreed accounting rules. MINISTRY OF ENVIRONMENT AND NATURAL RESOURCES\\n\\nMarket Based\\nMechanism\\nReference Point\\nBAU emissions in  Business-as-usual  (BAU)  emissions  are  estimated  to  be  143\\nthe target year  MtCO eq)  by  2030. This  excludes  future  exploitation  in  the\\n2\\nextractive sector.', 'content_type': 'text', 'score': None, 'meta': {'name': '../data/150723_Kenya_First NDC.pdf', '_split_id': 20}, 'embedding': None, 'id': '54f99296f2c0bfe2695bb77037fff54c'}>,\n",
       " <Document: {'content': 'This  excludes  future  exploitation  in  the\\n2\\nextractive sector. BAU projection  The BAU projection methodology is detailed within the NCCAP and\\nmethodology   the  Second  National  Communication  (SNC),  including  key\\nassumptions, drivers and methodologies for each sector. The base\\nyear is 2010. For geothermal energy, note that the BAU projection\\ncontained in the NCCAP and SNC has been revised to be consistent\\nwith the current level of geothermal deployment since the NCCAP\\nwas published. 2.2  Adaptation\\nAs a minimal contributor to global GHG emissions, Kenya places significant priority on\\nadapting to the effects of climate change.', 'content_type': 'text', 'score': None, 'meta': {'name': '../data/150723_Kenya_First NDC.pdf', '_split_id': 21}, 'embedding': None, 'id': 'c4cf397303cd834fc5ff07737aee587e'}>,\n",
       " <Document: {'content': '2.2  Adaptation\\nAs a minimal contributor to global GHG emissions, Kenya places significant priority on\\nadapting to the effects of climate change. 2.2.1  Programme of action for adaptation\\nThe  priority  adaptation  actions  are\\npresented  in  the  NCCAP  and  further  Kenya will ensure enhanced resilience to\\nclimate change towards the attainment of\\nelaborated in the NAP. The actions are based\\non risk and vulnerability assessments across  Vision  2030  by  mainstreaming  climate\\nchange adaptation into the Medium Term\\nthe MTP sectors. Many of the actions have\\nstrong  synergies  with  mitigation  actions.', 'content_type': 'text', 'score': None, 'meta': {'name': '../data/150723_Kenya_First NDC.pdf', '_split_id': 22}, 'embedding': None, 'id': '4dc420db1827b85a289dfb64e0b1b96c'}>,\n",
       " <Document: {'content': 'Many of the actions have\\nstrong  synergies  with  mitigation  actions. Plans (MTPs) and implementing adaptation\\nKenya’s  capacity  to  undertake  strong  actions. Any reasonable achievement of the\\nadaptation  goal  will  require  financial,\\nmitigation  actions  is  dependent  upon\\nsupport  for  the  implementation  of  these  technology and capacity building support. adaptation actions. \\uf0b7  MTP SECTOR  \\uf0b7  PRIORITY ADAPTATION ACTIONS\\n\\uf0b7  Energy  \\uf0b7  Increase the resilience of current and future energy systems.', 'content_type': 'text', 'score': None, 'meta': {'name': '../data/150723_Kenya_First NDC.pdf', '_split_id': 23}, 'embedding': None, 'id': 'e90e99f8b1188157041402a096093c80'}>,\n",
       " <Document: {'content': '\\uf0b7  MTP SECTOR  \\uf0b7  PRIORITY ADAPTATION ACTIONS\\n\\uf0b7  Energy  \\uf0b7  Increase the resilience of current and future energy systems. \\uf0b7  Science,  Technology  an\\uf0b7d   Support innovation and development of appropriate technologies that\\ninnovations  promote climate resilient development. MINISTRY OF ENVIRONMENT AND NATURAL RESOURCES\\n\\n\\uf0b7  MTP SECTOR  \\uf0b7  PRIORITY ADAPTATION ACTIONS\\nPublic sector reforms  Integrate climate change adaptation into the public sector reforms.', 'content_type': 'text', 'score': None, 'meta': {'name': '../data/150723_Kenya_First NDC.pdf', '_split_id': 24}, 'embedding': None, 'id': '72be0a2e7d071242e64450dc217c800e'}>,\n",
       " <Document: {'content': 'MINISTRY OF ENVIRONMENT AND NATURAL RESOURCES\\n\\n\\uf0b7  MTP SECTOR  \\uf0b7  PRIORITY ADAPTATION ACTIONS\\nPublic sector reforms  Integrate climate change adaptation into the public sector reforms. \\uf0b7  Human Resource  \\uf0b7  Enhance  adaptive  capacity  and  resilience  of  the  informal  private\\nDevelopment, Labour and  sector. Employment\\n\\uf0b7  Infrastructure  \\uf0b7  Climate proofing of infrastructure (energy, transport, buildings, ICT). \\uf0b7  Land Reforms  \\uf0b7  Mainstream climate change adaptation in land reforms.', 'content_type': 'text', 'score': None, 'meta': {'name': '../data/150723_Kenya_First NDC.pdf', '_split_id': 25}, 'embedding': None, 'id': '13fa3dd73dff68492664a3cd09c25d83'}>,\n",
       " <Document: {'content': '\\uf0b7  Land Reforms  \\uf0b7  Mainstream climate change adaptation in land reforms. Education and training  Enhance education, training, public awareness, public participation,\\npublic  access  to  information  on  climate  change  adaptation  across\\npublic and private sectors. Health  Strengthen integration of climate change adaptation into the health\\nsector. Environment  Enhance climate information services. Enhance  the  resilience  of  ecosystems  to  climate  variability  and\\nchange.', 'content_type': 'text', 'score': None, 'meta': {'name': '../data/150723_Kenya_First NDC.pdf', '_split_id': 26}, 'embedding': None, 'id': '273764220d637ba656f765f6dc822834'}>,\n",
       " <Document: {'content': 'Enhance  the  resilience  of  ecosystems  to  climate  variability  and\\nchange. Water and irrigation  Mainstream  of  climate  change  adaptation  in  the  water  sector  by\\nimplementing the National Water Master Plan (2014). Population,  urbanisation  Enhance the adaptive capacity of the population, urbanisation and\\nand housing  housing sector. Gender,  Vulnerable  Strengthen the adaptive capacity of the most vulnerable groups and\\nGroups and Youth  communities through social safety nets and insurance schemes. Tourism  Enhance the resilience of the tourism value chain.', 'content_type': 'text', 'score': None, 'meta': {'name': '../data/150723_Kenya_First NDC.pdf', '_split_id': 27}, 'embedding': None, 'id': '93dfe852670e56d85ab64f886c5d938d'}>,\n",
       " <Document: {'content': 'Tourism  Enhance the resilience of the tourism value chain. Agriculture,  livestock  Enhance the resilience of the agriculture, livestock and fisheries value\\ndevelopment and fisheries  chains  by  promoting  climate  smart  agriculture  and  livestock\\ndevelopment. Private  Sector/  Trade;  Create  enabling  environment  for  the  resilience  of  private  sector\\nManufacturing;  Business  investment, demonstrate an operational business case. Process  Outsourcing,\\nFinancial services\\nOil and mineral resources  Integrate climate change adaptation into the extractive sector.', 'content_type': 'text', 'score': None, 'meta': {'name': '../data/150723_Kenya_First NDC.pdf', '_split_id': 28}, 'embedding': None, 'id': 'fe156ea1ecdd394f0416c9a60fc88f18'}>,\n",
       " <Document: {'content': 'Process  Outsourcing,\\nFinancial services\\nOil and mineral resources  Integrate climate change adaptation into the extractive sector. Devolution  Mainstream  climate  change  adaptation  into  county  integrated\\ndevelopment plans and implement the Ending Drought Emergencies\\nStrategy. MINISTRY OF ENVIRONMENT AND NATURAL RESOURCES\\n\\n3. Fairness and ambition\\nKenya believes that the key factors in determining the fairness of a contribution should\\ninclude historical responsibility and respective capability to address climate change. The\\nUNFCCC also recognises that the extent to which developing countries will meet their\\nobligations under the Convention will depend on the level of support in terms of finance,\\ntechnology and capacity building available.', 'content_type': 'text', 'score': None, 'meta': {'name': '../data/150723_Kenya_First NDC.pdf', '_split_id': 29}, 'embedding': None, 'id': '173b339d6dcd9f2017879a1c2afe5bf6'}>,\n",
       " <Document: {'content': 'The\\nUNFCCC also recognises that the extent to which developing countries will meet their\\nobligations under the Convention will depend on the level of support in terms of finance,\\ntechnology and capacity building available. Kenya’s historical contribution is low, at 0.1% of the total global emissions, while the per-\\ncapita emissions are less than 1.26 MtCO eq compared to the global average of 7.58\\n2\\nMtCO eq 1. 2\\nThe country’s capability to implement this contribution is also subject to limitations; with\\npoverty  alleviation  and  sustainable  economic  development  being  the  key  national\\nobjectives.', 'content_type': 'text', 'score': None, 'meta': {'name': '../data/150723_Kenya_First NDC.pdf', '_split_id': 30}, 'embedding': None, 'id': '43aca508ea53e5eea7c2ed15fb1d5c09'}>,\n",
       " <Document: {'content': '2\\nThe country’s capability to implement this contribution is also subject to limitations; with\\npoverty  alleviation  and  sustainable  economic  development  being  the  key  national\\nobjectives. Increasing the per-capita GDP growth equitably above the current levels of 4.1%\\nis therefore a priority. Nevertheless, Kenya places a high priority on response to climate change. In order to meet\\nthe below 2 \\uf0b0C objective, all countries will need to undertake mitigation based on the\\ncommon but differentiated responsibilities and respective capabilities in accordance with\\nthe Convention.', 'content_type': 'text', 'score': None, 'meta': {'name': '../data/150723_Kenya_First NDC.pdf', '_split_id': 31}, 'embedding': None, 'id': 'e9e044ab1e89eb2ce294fc90228d4a34'}>,\n",
       " <Document: {'content': 'In order to meet\\nthe below 2 \\uf0b0C objective, all countries will need to undertake mitigation based on the\\ncommon but differentiated responsibilities and respective capabilities in accordance with\\nthe Convention. In addition, Kenya particularly notes that the Lima Call to Action agrees\\nthat each Party’s contribution will “represent a progression beyond the current undertaking\\nof that Party”. Kenya is determined to continue playing a leadership role in addressing climate change by\\ncommunicating a fair and ambitious contribution. This intended contribution targets a high\\nproportion of its mitigation potential, dependent on the level of support available.', 'content_type': 'text', 'score': None, 'meta': {'name': '../data/150723_Kenya_First NDC.pdf', '_split_id': 32}, 'embedding': None, 'id': '67558998fe66bb21ce4d612d0480cca2'}>,\n",
       " <Document: {'content': 'This intended contribution targets a high\\nproportion of its mitigation potential, dependent on the level of support available. This will\\ninvolve  implementing  the  priority  mitigation  and  adaptation  actions  in  the  NCCAP  to\\nachieve a low carbon climate resilient development in line with Vision 2030. This is the first time that Kenya has stated an intended contribution to global mitigation\\nefforts. In addition, Kenya’s INDC represents her aspiration to increase the resilience to\\nclimate change by introducing a comprehensive programme for adaptation action across\\nsectors in support of livelihoods, and economic well-being of the Kenyan people.', 'content_type': 'text', 'score': None, 'meta': {'name': '../data/150723_Kenya_First NDC.pdf', '_split_id': 33}, 'embedding': None, 'id': 'a54c32a6a28a94b93861fafb470b4765'}>,\n",
       " <Document: {'content': 'In addition, Kenya’s INDC represents her aspiration to increase the resilience to\\nclimate change by introducing a comprehensive programme for adaptation action across\\nsectors in support of livelihoods, and economic well-being of the Kenyan people. This\\nrepresents a high level of fairness and ambition in light of Kenya’s national circumstances. 4. Planning process\\nKenya’s planning process on mitigation and adaptation hinges on the NCCAP and the NAP. The two shall be reviewed every five years to inform the MTP. The adaptation actions are\\n\\n1 GHG time series 1990-2012 per capita emissions for world countries\\nhttp://edgar.jrc.ec.europa.eu/overview.php?v=GHGts_pc1990-2012\\n\\nMINISTRY OF ENVIRONMENT AND NATURAL RESOURCES\\n\\nfurther amplified in the NAP.', 'content_type': 'text', 'score': None, 'meta': {'name': '../data/150723_Kenya_First NDC.pdf', '_split_id': 34}, 'embedding': None, 'id': '9508efafc205c8beeb80f06e92cd79f4'}>,\n",
       " <Document: {'content': 'The adaptation actions are\\n\\n1 GHG time series 1990-2012 per capita emissions for world countries\\nhttp://edgar.jrc.ec.europa.eu/overview.php?v=GHGts_pc1990-2012\\n\\nMINISTRY OF ENVIRONMENT AND NATURAL RESOURCES\\n\\nfurther amplified in the NAP. Mitigation and adaptation actions are implemented across the\\nvarious  sectors  at  both  the  national  and  county  government  levels. The  Ministry  of\\nEnvironment  and  Natural  Resources  coordinates  the  country’s  climate  change  affairs\\nthrough the National Climate Change Secretariat (NCCS).', 'content_type': 'text', 'score': None, 'meta': {'name': '../data/150723_Kenya_First NDC.pdf', '_split_id': 35}, 'embedding': None, 'id': '6488240593066ef9694c23b9073d8c3f'}>,\n",
       " <Document: {'content': 'The  Ministry  of\\nEnvironment  and  Natural  Resources  coordinates  the  country’s  climate  change  affairs\\nthrough the National Climate Change Secretariat (NCCS). The planning process also takes cognisance of the Climate Change Bill (2014) that proposes\\nseveral institutional reforms to enhance coordination of climate change adaptation and\\nmitigation. These include the establishment of:\\n\\uf0b7  A high level National Climate Change Council chaired by the President.', 'content_type': 'text', 'score': None, 'meta': {'name': '../data/150723_Kenya_First NDC.pdf', '_split_id': 36}, 'embedding': None, 'id': '87d57e0c4f6aeb58c6ec44b1d1d8554'}>,\n",
       " <Document: {'content': 'These include the establishment of:\\n\\uf0b7  A high level National Climate Change Council chaired by the President. The Council\\nshall provide an overarching national climate change coordination mechanism and,\\namong other roles, ensure the mainstreaming of climate change functions by the\\nNational and County governments, and approve and oversee the implementation of\\nthe NCCAP. \\uf0b7   A Climate Change Directorate as the lead agency of the government on national\\nclimate change plans and actions to deliver operational coordination; and provide\\ntechnical  assistance  on  climate  change  actions  and  responses  to  County\\ngovernments.', 'content_type': 'text', 'score': None, 'meta': {'name': '../data/150723_Kenya_First NDC.pdf', '_split_id': 37}, 'embedding': None, 'id': 'b8e5af6188d808468a356df49416022c'}>,\n",
       " <Document: {'content': '\\uf0b7   A Climate Change Directorate as the lead agency of the government on national\\nclimate change plans and actions to deliver operational coordination; and provide\\ntechnical  assistance  on  climate  change  actions  and  responses  to  County\\ngovernments. \\uf0b7  Kenya  Climate  Fund  to  be  a  financing  mechanism  for  priority  climate  change\\nactions and interventions approved by the Council.', 'content_type': 'text', 'score': None, 'meta': {'name': '../data/150723_Kenya_First NDC.pdf', '_split_id': 38}, 'embedding': None, 'id': 'd68f0d236914d6704ba6bc0bc8024cd2'}>,\n",
       " <Document: {'content': '\\uf0b7  Kenya  Climate  Fund  to  be  a  financing  mechanism  for  priority  climate  change\\nactions and interventions approved by the Council. In  addressing  climate  change  issues,  public  entities  are  required  to  undertake  public\\nawareness  and  consultations,  and  ensure  gender  mainstreaming,  in  line  with  the\\nConstitution and the Climate Change Bill (2014). 5. Means of implementation\\nKenya’s contribution will be implemented with both domestic and international support.', 'content_type': 'text', 'score': None, 'meta': {'name': '../data/150723_Kenya_First NDC.pdf', '_split_id': 39}, 'embedding': None, 'id': 'c961da143b50d5d481e1242857f51ce8'}>,\n",
       " <Document: {'content': 'Means of implementation\\nKenya’s contribution will be implemented with both domestic and international support. It is estimated that over USD 40 billion is required for mitigation and adaptation actions\\nacross sectors up to 2030. Kenya will require international support in form of finance,\\ninvestment, technology development and transfer, and capacity-building to fully realize her\\nintended contribution. Further analysis will be necessary to refine the required investment\\ncost and determine the domestic support.', 'content_type': 'text', 'score': None, 'meta': {'name': '../data/150723_Kenya_First NDC.pdf', '_split_id': 40}, 'embedding': None, 'id': '9ea0e1cf6314d3ff3d10d8623ed83886'}>]"
      ]
     },
     "execution_count": 241,
     "metadata": {},
     "output_type": "execute_result"
    }
   ],
   "source": [
    "docs_default"
   ]
  },
  {
   "cell_type": "code",
   "execution_count": null,
   "id": "70c2ca56",
   "metadata": {},
   "outputs": [],
   "source": []
  }
 ],
 "metadata": {
  "kernelspec": {
   "display_name": "Python 3 (ipykernel)",
   "language": "python",
   "name": "python3"
  },
  "language_info": {
   "codemirror_mode": {
    "name": "ipython",
    "version": 3
   },
   "file_extension": ".py",
   "mimetype": "text/x-python",
   "name": "python",
   "nbconvert_exporter": "python",
   "pygments_lexer": "ipython3",
   "version": "3.9.7"
  }
 },
 "nbformat": 4,
 "nbformat_minor": 5
}
