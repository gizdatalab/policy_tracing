{
 "cells": [
  {
   "cell_type": "code",
   "execution_count": 15,
   "id": "321d4cd0",
   "metadata": {
    "scrolled": true
   },
   "outputs": [],
   "source": [
    "import seaborn as sns\n",
    "import pdfplumber\n",
    "from pandas import DataFrame\n",
    "from keybert import KeyBERT"
   ]
  },
  {
   "cell_type": "code",
   "execution_count": 10,
   "id": "d2507422",
   "metadata": {},
   "outputs": [
    {
     "name": "stdout",
     "output_type": "stream",
     "text": [
      "7\n"
     ]
    }
   ],
   "source": [
    "text = []\n",
    "with pdfplumber.open(r'150723_Kenya_First NDC.pdf') as pdf:\n",
    "    for page in pdf.pages:\n",
    "        text.append(page.extract_text())\n",
    "        \n",
    "print(len(text))"
   ]
  },
  {
   "cell_type": "code",
   "execution_count": 32,
   "id": "08735b29",
   "metadata": {},
   "outputs": [],
   "source": [
    "text_str = ' '.join([page for page in text])\n",
    "text_500 = ' '.join([word for word in text_str.split()[:500]]) "
   ]
  },
  {
   "cell_type": "code",
   "execution_count": 34,
   "id": "f245a625",
   "metadata": {},
   "outputs": [
    {
     "name": "stdout",
     "output_type": "stream",
     "text": [
      "16524 2256 500\n"
     ]
    }
   ],
   "source": [
    "print(len(text_str),len(text_str.split()),len(text_500.split()))"
   ]
  },
  {
   "cell_type": "code",
   "execution_count": null,
   "id": "8f457a3d",
   "metadata": {},
   "outputs": [],
   "source": []
  },
  {
   "cell_type": "code",
   "execution_count": 12,
   "id": "788acb5b",
   "metadata": {},
   "outputs": [],
   "source": [
    "kw_model = KeyBERT()"
   ]
  },
  {
   "cell_type": "code",
   "execution_count": 39,
   "id": "5c9a3ab3",
   "metadata": {},
   "outputs": [],
   "source": [
    "keywords = kw_model.extract_keywords(\n",
    "            text_str,\n",
    "            keyphrase_ngram_range=(1, 2),\n",
    "            use_mmr=True,\n",
    "            stop_words=\"english\",\n",
    "            top_n=10,\n",
    "            diversity=0.5,\n",
    "            )"
   ]
  },
  {
   "cell_type": "code",
   "execution_count": 36,
   "id": "5391f0b4",
   "metadata": {},
   "outputs": [],
   "source": [
    "df = (DataFrame(keywords, columns=[\"Keyword/Keyphrase\", \"Relevancy\"])\n",
    "                .sort_values(by=\"Relevancy\", ascending=False)\n",
    "                .reset_index(drop=True)   )\n",
    "df.index += 1"
   ]
  },
  {
   "cell_type": "code",
   "execution_count": 37,
   "id": "b0d57564",
   "metadata": {},
   "outputs": [],
   "source": [
    "# Add styling\n",
    "cmGreen = sns.light_palette(\"green\", as_cmap=True)\n",
    "cmRed = sns.light_palette(\"red\", as_cmap=True)\n",
    "df = df.style.background_gradient(\n",
    "    cmap=cmGreen,\n",
    "    subset=[\n",
    "        \"Relevancy\",\n",
    "    ],\n",
    ")"
   ]
  },
  {
   "cell_type": "code",
   "execution_count": 38,
   "id": "7001c0f8",
   "metadata": {},
   "outputs": [
    {
     "data": {
      "text/html": [
       "<style type=\"text/css\">\n",
       "#T_2fdcd_row0_col1 {\n",
       "  background-color: #008000;\n",
       "  color: #f1f1f1;\n",
       "}\n",
       "#T_2fdcd_row1_col1 {\n",
       "  background-color: #3e9e3e;\n",
       "  color: #f1f1f1;\n",
       "}\n",
       "#T_2fdcd_row2_col1 {\n",
       "  background-color: #64b164;\n",
       "  color: #f1f1f1;\n",
       "}\n",
       "#T_2fdcd_row3_col1 {\n",
       "  background-color: #69b369;\n",
       "  color: #f1f1f1;\n",
       "}\n",
       "#T_2fdcd_row4_col1 {\n",
       "  background-color: #9acb9a;\n",
       "  color: #000000;\n",
       "}\n",
       "#T_2fdcd_row5_col1 {\n",
       "  background-color: #9fce9f;\n",
       "  color: #000000;\n",
       "}\n",
       "#T_2fdcd_row6_col1 {\n",
       "  background-color: #a2cfa2;\n",
       "  color: #000000;\n",
       "}\n",
       "#T_2fdcd_row7_col1 {\n",
       "  background-color: #b0d6b0;\n",
       "  color: #000000;\n",
       "}\n",
       "#T_2fdcd_row8_col1 {\n",
       "  background-color: #c6e1c6;\n",
       "  color: #000000;\n",
       "}\n",
       "#T_2fdcd_row9_col1 {\n",
       "  background-color: #ebf3eb;\n",
       "  color: #000000;\n",
       "}\n",
       "</style>\n",
       "<table id=\"T_2fdcd\">\n",
       "  <thead>\n",
       "    <tr>\n",
       "      <th class=\"blank level0\" >&nbsp;</th>\n",
       "      <th id=\"T_2fdcd_level0_col0\" class=\"col_heading level0 col0\" >Keyword/Keyphrase</th>\n",
       "      <th id=\"T_2fdcd_level0_col1\" class=\"col_heading level0 col1\" >Relevancy</th>\n",
       "    </tr>\n",
       "  </thead>\n",
       "  <tbody>\n",
       "    <tr>\n",
       "      <th id=\"T_2fdcd_level0_row0\" class=\"row_heading level0 row0\" >1</th>\n",
       "      <td id=\"T_2fdcd_row0_col0\" class=\"data row0 col0\" >change kenya</td>\n",
       "      <td id=\"T_2fdcd_row0_col1\" class=\"data row0 col1\" >58.4%</td>\n",
       "    </tr>\n",
       "    <tr>\n",
       "      <th id=\"T_2fdcd_level0_row1\" class=\"row_heading level0 row1\" >2</th>\n",
       "      <td id=\"T_2fdcd_row1_col0\" class=\"data row1 col0\" >impacts climate</td>\n",
       "      <td id=\"T_2fdcd_row1_col1\" class=\"data row1 col1\" >47.5%</td>\n",
       "    </tr>\n",
       "    <tr>\n",
       "      <th id=\"T_2fdcd_level0_row2\" class=\"row_heading level0 row2\" >3</th>\n",
       "      <td id=\"T_2fdcd_row2_col0\" class=\"data row2 col0\" >national adaptation</td>\n",
       "      <td id=\"T_2fdcd_row2_col1\" class=\"data row2 col1\" >40.8%</td>\n",
       "    </tr>\n",
       "    <tr>\n",
       "      <th id=\"T_2fdcd_level0_row3\" class=\"row_heading level0 row3\" >4</th>\n",
       "      <td id=\"T_2fdcd_row3_col0\" class=\"data row3 col0\" >natural resources</td>\n",
       "      <td id=\"T_2fdcd_row3_col1\" class=\"data row3 col1\" >39.9%</td>\n",
       "    </tr>\n",
       "    <tr>\n",
       "      <th id=\"T_2fdcd_level0_row4\" class=\"row_heading level0 row4\" >5</th>\n",
       "      <td id=\"T_2fdcd_row4_col0\" class=\"data row4 col0\" >change unfccc</td>\n",
       "      <td id=\"T_2fdcd_row4_col1\" class=\"data row4 col1\" >31.4%</td>\n",
       "    </tr>\n",
       "    <tr>\n",
       "      <th id=\"T_2fdcd_level0_row5\" class=\"row_heading level0 row5\" >6</th>\n",
       "      <td id=\"T_2fdcd_row5_col0\" class=\"data row5 col0\" >indc response</td>\n",
       "      <td id=\"T_2fdcd_row5_col1\" class=\"data row5 col1\" >30.5%</td>\n",
       "    </tr>\n",
       "    <tr>\n",
       "      <th id=\"T_2fdcd_level0_row6\" class=\"row_heading level0 row6\" >7</th>\n",
       "      <td id=\"T_2fdcd_row6_col0\" class=\"data row6 col0\" >stakeholder cross</td>\n",
       "      <td id=\"T_2fdcd_row6_col1\" class=\"data row6 col1\" >30.0%</td>\n",
       "    </tr>\n",
       "    <tr>\n",
       "      <th id=\"T_2fdcd_level0_row7\" class=\"row_heading level0 row7\" >8</th>\n",
       "      <td id=\"T_2fdcd_row7_col0\" class=\"data row7 col0\" >policies plans</td>\n",
       "      <td id=\"T_2fdcd_row7_col1\" class=\"data row7 col1\" >27.6%</td>\n",
       "    </tr>\n",
       "    <tr>\n",
       "      <th id=\"T_2fdcd_level0_row8\" class=\"row_heading level0 row8\" >9</th>\n",
       "      <td id=\"T_2fdcd_row8_col0\" class=\"data row8 col0\" >nccap 2013</td>\n",
       "      <td id=\"T_2fdcd_row8_col1\" class=\"data row8 col1\" >23.8%</td>\n",
       "    </tr>\n",
       "    <tr>\n",
       "      <th id=\"T_2fdcd_level0_row9\" class=\"row_heading level0 row9\" >10</th>\n",
       "      <td id=\"T_2fdcd_row9_col0\" class=\"data row9 col0\" >framework convention</td>\n",
       "      <td id=\"T_2fdcd_row9_col1\" class=\"data row9 col1\" >17.2%</td>\n",
       "    </tr>\n",
       "  </tbody>\n",
       "</table>\n"
      ],
      "text/plain": [
       "<pandas.io.formats.style.Styler at 0x2679b3d0ac0>"
      ]
     },
     "execution_count": 38,
     "metadata": {},
     "output_type": "execute_result"
    }
   ],
   "source": [
    "\n",
    "format_dictionary = {\n",
    "    \"Relevancy\": \"{:.1%}\",\n",
    "}\n",
    "\n",
    "df = df.format(format_dictionary)\n",
    "df"
   ]
  },
  {
   "cell_type": "code",
   "execution_count": 40,
   "id": "b662a3f7",
   "metadata": {},
   "outputs": [
    {
     "data": {
      "application/vnd.jupyter.widget-view+json": {
       "model_id": "cb528a4772524a81821046f43bbe8b58",
       "version_major": 2,
       "version_minor": 0
      },
      "text/plain": [
       "Downloading:   0%|          | 0.00/1.28k [00:00<?, ?B/s]"
      ]
     },
     "metadata": {},
     "output_type": "display_data"
    },
    {
     "data": {
      "application/vnd.jupyter.widget-view+json": {
       "model_id": "29e517f92cec46e38dc6c86b7169efb7",
       "version_major": 2,
       "version_minor": 0
      },
      "text/plain": [
       "Downloading:   0%|          | 0.00/476M [00:00<?, ?B/s]"
      ]
     },
     "metadata": {},
     "output_type": "display_data"
    },
    {
     "data": {
      "application/vnd.jupyter.widget-view+json": {
       "model_id": "36f2b39053324e9d949606ae36530b02",
       "version_major": 2,
       "version_minor": 0
      },
      "text/plain": [
       "Downloading:   0%|          | 0.00/349 [00:00<?, ?B/s]"
      ]
     },
     "metadata": {},
     "output_type": "display_data"
    },
    {
     "data": {
      "application/vnd.jupyter.widget-view+json": {
       "model_id": "0dade24473634259a3e0b13ce94b146c",
       "version_major": 2,
       "version_minor": 0
      },
      "text/plain": [
       "Downloading:   0%|          | 0.00/780k [00:00<?, ?B/s]"
      ]
     },
     "metadata": {},
     "output_type": "display_data"
    },
    {
     "data": {
      "application/vnd.jupyter.widget-view+json": {
       "model_id": "8b43cb5746404cd6ac9069deb501209a",
       "version_major": 2,
       "version_minor": 0
      },
      "text/plain": [
       "Downloading:   0%|          | 0.00/446k [00:00<?, ?B/s]"
      ]
     },
     "metadata": {},
     "output_type": "display_data"
    },
    {
     "data": {
      "application/vnd.jupyter.widget-view+json": {
       "model_id": "6932f3ff40fe475b8cddddfd77ead6ab",
       "version_major": 2,
       "version_minor": 0
      },
      "text/plain": [
       "Downloading:   0%|          | 0.00/2.01M [00:00<?, ?B/s]"
      ]
     },
     "metadata": {},
     "output_type": "display_data"
    },
    {
     "data": {
      "application/vnd.jupyter.widget-view+json": {
       "model_id": "d8e0fa4a108a47ea81e0a9e9b2287976",
       "version_major": 2,
       "version_minor": 0
      },
      "text/plain": [
       "Downloading:   0%|          | 0.00/239 [00:00<?, ?B/s]"
      ]
     },
     "metadata": {},
     "output_type": "display_data"
    }
   ],
   "source": [
    "from transformers import pipeline \n",
    "\n",
    "finetuned_checkpoint = \"peter2000/roberta-base-finetuned-osdg\"\n",
    "classifier = pipeline(\"text-classification\", model=finetuned_checkpoint)\n"
   ]
  },
  {
   "cell_type": "code",
   "execution_count": null,
   "id": "7e348002",
   "metadata": {},
   "outputs": [],
   "source": []
  },
  {
   "cell_type": "code",
   "execution_count": 42,
   "id": "d14c1412",
   "metadata": {},
   "outputs": [],
   "source": [
    "word_list = text_str.split()\n",
    "len_word_list = len(word_list)\n",
    "    "
   ]
  },
  {
   "cell_type": "code",
   "execution_count": 52,
   "id": "2d3cf731",
   "metadata": {},
   "outputs": [],
   "source": [
    "par_list = []\n",
    "par_len = 150\n",
    "for i in range(0,len_word_list // par_len):\n",
    "    string_part = ' '.join(word_list[i*par_len:(i+1)*par_len])\n",
    "    par_list.append(string_part)"
   ]
  },
  {
   "cell_type": "code",
   "execution_count": 53,
   "id": "d8062da1",
   "metadata": {},
   "outputs": [
    {
     "data": {
      "text/plain": [
       "['MINISTRY OF ENVIRONMENT AND NATURAL RESOURCES Kenya’s Intended Nationally Determined Contribution (INDC) 23 July 2015 1. Introduction Kenya, like other countries in the region, is bearing the brunt of climate change impacts and the associated socio-economic losses. The situation is exacerbated by the high dependence on climate sensitive natural resources. In response to the challenges posed by Climate Change, Kenya has developed a National Climate Change Response Strategy (NCCRS 2010), National Climate Change Action Plan (NCCAP 2013), and a National Adaptation Plan (NAP) - under preparation which provides a vision for low carbon and climate resilient development pathway, while a National Climate Change Framework Policy and legislation are in their final stages of enactment to facilitate effective response to climate change. Kenya is operationalising these policies and plans through the implementation of climate change actions in various areas such as afforestation and reforestation, geothermal and other clean energy development, energy',\n",
       " 'efficiency, climate smart agriculture, and drought management. This document presents Kenya’s Intended Nationally Determined Contribution (INDC) in response to decisions adopted at the 19th and 20th sessions of the Conference of the Parties to the United Nations Framework Convention on Climate Change (UNFCCC); that invite Parties to communicate to the Secretariat their INDCs, towards achieving the objective of the UNFCCC as set out in Article 2 of the Convention. Kenya’s INDC builds on the participatory multi-stakeholder and cross-sectoral consultative processes during the development of NCCRS and NCCAP at national and county levels. The contribution will also contribute towards the delivery of the Constitution of Kenya and the attainment of Vision 2030, the country’s development blueprint. 1.1 National Circumstances Kenya is located in the Greater Horn of Africa region, which is highly vulnerable to the impacts of climate change. More than 80% of the country’s landmass is arid and semi-arid land',\n",
       " '(ASAL) with poor infrastructure, and other developmental challenges. The country’s economy is highly dependent on climate sensitive sectors such as agriculture that is mainly rain-fed, energy, tourism, water and health. Climate hazards have caused considerable losses across the country’s different sectors over the years. The main climate hazards include droughts and floods which cause economic losses estimated at 3% of the country’s Gross Domestic Product (GDP). Kenya’s total greenhouse gas (GHG) emissions are relatively low, standing at 73 MtCO eq 2 in 2010, out of which 75% are from the land use, land-use change and forestry (LULUCF) and agriculture sectors. This may be explained by the reliance on wood fuel by a large proportion of the population coupled with the increasing demand for agricultural land and MINISTRY OF ENVIRONMENT AND NATURAL RESOURCES urban development. The other significant emissions are from the energy and transport sectors, with the waste and industrial',\n",
       " 'processes contributing negligible amounts. Kenya strives to be a newly industrialised middle income country by 2030. This development is expected to increase emissions from the energy sector. The current energy mix, however, is mainly clean with deliberate efforts by Government towards enhancing geothermal, wind, solar and other clean energy development. Climate change impacts continue to slow down the attainment of its national development goals. Kenya will continue making investments with both domestic and international resources to adapt to climate change and realise its abatement potentials. 2. Contribution Kenya’s INDC includes both mitigation and adaptation components based on her national circumstances and in line with decisions 1/CP.19 and 1/CP.20. 2.1 Mitigation Kenya aims to achieve a low carbon, climate resilient development pathway. Kenya seeks to undertake an ambitious mitigation contribution towards the 2015 Kenya will continue to implement the Agreement. Kenya therefore seeks to abate its NCCAP (2013-2017), and subsequent GHG',\n",
       " 'emissions by 30% by 2030 relative to action plans beyond this period to the BAU scenario of 143 MtCO eq; and in achieve this target. This will include the 2 line with its sustainable development agenda. promotion and implementation of the This is also subject to international support in following mitigation activities. the form of finance, investment, technology development and transfer, and capacity \\uf0b7 Expansion in geothermal, solar and wind energy production, building. other renewables and clean energy options. \\uf0b7 Enhancement of Energy and resource efficiency across the different sectors. \\uf0b7 Make progress towards achieving a tree cover of at least 10% of the land area of Kenya. \\uf0b7 Clean energy technologies to reduce overreliance on wood fuels. \\uf0b7 Low carbon and efficient transportation systems. \\uf0b7 Climate smart agriculture (CSA) in line with the National CSA Framework. \\uf0b7 Sustainable waste management systems. MINISTRY OF ENVIRONMENT AND NATURAL RESOURCES 2.1.1 Information',\n",
       " 'to facilitate clarity, transparency and understanding Timeframe for The timeframe for implementation of the INDC is up to 2030. implementation Scope of gases Carbon dioxide (CO ), Methane (CH ), and Nitrous Oxide (N O) 2 4 2 included in the are prioritised. contribution Sectors covered by The IPCC Guidelines for all sectors: Energy, Transportation, the contribution Industrial Processes, Agriculture, Forestry and Other Land Use (AFOLU) and waste sector. Assumptions and methodological approaches Methodology for The IPCC Revised 1996 Guidelines for National Greenhouse Gas emissions Inventories and the Good Practise Guidance and Uncertainty accounting Management in National Greenhouse Gas Inventories were used to calculate the GHG emissions and removals as described in the Second National Communication. Emissions of carbon dioxide from the combustion of biomass are assessed but not counted towards the contribution. Future contribution from the extractive sector has not been included in the accounting. Global warming The carbon',\n",
       " \"dioxide equivalent was calculated using the 100 year potentials global warming potentials in accordance with the IPCC 2nd Assessment Report. Approaches to land This includes emissions from the land use, land-use change and sector emissions forestry (LULUCF) sector. Relevant national policy documents and the FAO's Global Forest Resource Assessment 2010 for Kenya were used. A global land-use data approach was used, as described in the 2003 IPCC Good Practice Guidance for LULUCF. A state and transition model consistent with the 1996 Revised IPCC Guidelines was used to calculate fluxes of CO to (or from) 2 the atmosphere and biomass carbon pools is the same as outlined in the 1996 Revised IPCC Guidelines. There is significant uncertainty in the BAU emission and mitigation potential estimates for this sector and work is underway to update and improve these estimates. Contribution of Kenya does not rule out the use of international market-based International\",\n",
       " 'mechanisms in line with agreed accounting rules. MINISTRY OF ENVIRONMENT AND NATURAL RESOURCES Market Based Mechanism Reference Point BAU emissions in Business-as-usual (BAU) emissions are estimated to be 143 the target year MtCO eq) by 2030. This excludes future exploitation in the 2 extractive sector. BAU projection The BAU projection methodology is detailed within the NCCAP and methodology the Second National Communication (SNC), including key assumptions, drivers and methodologies for each sector. The base year is 2010. For geothermal energy, note that the BAU projection contained in the NCCAP and SNC has been revised to be consistent with the current level of geothermal deployment since the NCCAP was published. 2.2 Adaptation As a minimal contributor to global GHG emissions, Kenya places significant priority on adapting to the effects of climate change. 2.2.1 Programme of action for adaptation The priority adaptation actions are presented in the NCCAP and further Kenya will',\n",
       " 'ensure enhanced resilience to climate change towards the attainment of elaborated in the NAP. The actions are based on risk and vulnerability assessments across Vision 2030 by mainstreaming climate change adaptation into the Medium Term the MTP sectors. Many of the actions have strong synergies with mitigation actions. Plans (MTPs) and implementing adaptation Kenya’s capacity to undertake strong actions. Any reasonable achievement of the adaptation goal will require financial, mitigation actions is dependent upon support for the implementation of these technology and capacity building support. adaptation actions. \\uf0b7 MTP SECTOR \\uf0b7 PRIORITY ADAPTATION ACTIONS \\uf0b7 Energy \\uf0b7 Increase the resilience of current and future energy systems. \\uf0b7 Science, Technology an\\uf0b7d Support innovation and development of appropriate technologies that innovations promote climate resilient development. MINISTRY OF ENVIRONMENT AND NATURAL RESOURCES \\uf0b7 MTP SECTOR \\uf0b7 PRIORITY ADAPTATION ACTIONS Public sector reforms Integrate climate change adaptation into the public sector reforms. \\uf0b7 Human',\n",
       " 'Resource \\uf0b7 Enhance adaptive capacity and resilience of the informal private Development, Labour and sector. Employment \\uf0b7 Infrastructure \\uf0b7 Climate proofing of infrastructure (energy, transport, buildings, ICT). \\uf0b7 Land Reforms \\uf0b7 Mainstream climate change adaptation in land reforms. Education and training Enhance education, training, public awareness, public participation, public access to information on climate change adaptation across public and private sectors. Health Strengthen integration of climate change adaptation into the health sector. Environment Enhance climate information services. Enhance the resilience of ecosystems to climate variability and change. Water and irrigation Mainstream of climate change adaptation in the water sector by implementing the National Water Master Plan (2014). Population, urbanisation Enhance the adaptive capacity of the population, urbanisation and and housing housing sector. Gender, Vulnerable Strengthen the adaptive capacity of the most vulnerable groups and Groups and Youth communities through social safety nets and insurance schemes. Tourism Enhance the resilience of',\n",
       " 'the tourism value chain. Agriculture, livestock Enhance the resilience of the agriculture, livestock and fisheries value development and fisheries chains by promoting climate smart agriculture and livestock development. Private Sector/ Trade; Create enabling environment for the resilience of private sector Manufacturing; Business investment, demonstrate an operational business case. Process Outsourcing, Financial services Oil and mineral resources Integrate climate change adaptation into the extractive sector. Devolution Mainstream climate change adaptation into county integrated development plans and implement the Ending Drought Emergencies Strategy. MINISTRY OF ENVIRONMENT AND NATURAL RESOURCES 3. Fairness and ambition Kenya believes that the key factors in determining the fairness of a contribution should include historical responsibility and respective capability to address climate change. The UNFCCC also recognises that the extent to which developing countries will meet their obligations under the Convention will depend on the level of support in terms of finance, technology and capacity building available. Kenya’s',\n",
       " 'historical contribution is low, at 0.1% of the total global emissions, while the per- capita emissions are less than 1.26 MtCO eq compared to the global average of 7.58 2 MtCO eq 1. 2 The country’s capability to implement this contribution is also subject to limitations; with poverty alleviation and sustainable economic development being the key national objectives. Increasing the per-capita GDP growth equitably above the current levels of 4.1% is therefore a priority. Nevertheless, Kenya places a high priority on response to climate change. In order to meet the below 2 \\uf0b0C objective, all countries will need to undertake mitigation based on the common but differentiated responsibilities and respective capabilities in accordance with the Convention. In addition, Kenya particularly notes that the Lima Call to Action agrees that each Party’s contribution will “represent a progression beyond the current undertaking of that Party”. Kenya is determined to continue playing a',\n",
       " 'leadership role in addressing climate change by communicating a fair and ambitious contribution. This intended contribution targets a high proportion of its mitigation potential, dependent on the level of support available. This will involve implementing the priority mitigation and adaptation actions in the NCCAP to achieve a low carbon climate resilient development in line with Vision 2030. This is the first time that Kenya has stated an intended contribution to global mitigation efforts. In addition, Kenya’s INDC represents her aspiration to increase the resilience to climate change by introducing a comprehensive programme for adaptation action across sectors in support of livelihoods, and economic well-being of the Kenyan people. This represents a high level of fairness and ambition in light of Kenya’s national circumstances. 4. Planning process Kenya’s planning process on mitigation and adaptation hinges on the NCCAP and the NAP. The two shall be reviewed every five years to inform',\n",
       " 'the MTP. The adaptation actions are 1 GHG time series 1990-2012 per capita emissions for world countries http://edgar.jrc.ec.europa.eu/overview.php?v=GHGts_pc1990-2012 MINISTRY OF ENVIRONMENT AND NATURAL RESOURCES further amplified in the NAP. Mitigation and adaptation actions are implemented across the various sectors at both the national and county government levels. The Ministry of Environment and Natural Resources coordinates the country’s climate change affairs through the National Climate Change Secretariat (NCCS). The planning process also takes cognisance of the Climate Change Bill (2014) that proposes several institutional reforms to enhance coordination of climate change adaptation and mitigation. These include the establishment of: \\uf0b7 A high level National Climate Change Council chaired by the President. The Council shall provide an overarching national climate change coordination mechanism and, among other roles, ensure the mainstreaming of climate change functions by the National and County governments, and approve and oversee the implementation of the NCCAP. \\uf0b7 A Climate',\n",
       " 'Change Directorate as the lead agency of the government on national climate change plans and actions to deliver operational coordination; and provide technical assistance on climate change actions and responses to County governments. \\uf0b7 Kenya Climate Fund to be a financing mechanism for priority climate change actions and interventions approved by the Council. In addressing climate change issues, public entities are required to undertake public awareness and consultations, and ensure gender mainstreaming, in line with the Constitution and the Climate Change Bill (2014). 5. Means of implementation Kenya’s contribution will be implemented with both domestic and international support. It is estimated that over USD 40 billion is required for mitigation and adaptation actions across sectors up to 2030. Kenya will require international support in form of finance, investment, technology development and transfer, and capacity-building to fully realize her intended contribution. Further analysis will be necessary to refine the required investment']"
      ]
     },
     "execution_count": 53,
     "metadata": {},
     "output_type": "execute_result"
    }
   ],
   "source": [
    "par_list"
   ]
  },
  {
   "cell_type": "code",
   "execution_count": 54,
   "id": "d77afc6a",
   "metadata": {},
   "outputs": [
    {
     "data": {
      "text/plain": [
       "[{'label': 'sdg_13', 'score': 0.9833493232727051},\n",
       " {'label': 'sdg_13', 'score': 0.9780138731002808},\n",
       " {'label': 'sdg_13', 'score': 0.956961989402771},\n",
       " {'label': 'sdg_13', 'score': 0.9745646119117737},\n",
       " {'label': 'sdg_13', 'score': 0.9198050498962402},\n",
       " {'label': 'sdg_13', 'score': 0.6893544793128967},\n",
       " {'label': 'sdg_13', 'score': 0.6445251107215881},\n",
       " {'label': 'sdg_13', 'score': 0.8096828460693359},\n",
       " {'label': 'sdg_13', 'score': 0.9861595034599304},\n",
       " {'label': 'sdg_13', 'score': 0.9820348024368286},\n",
       " {'label': 'sdg_13', 'score': 0.986470639705658},\n",
       " {'label': 'sdg_13', 'score': 0.9632980823516846},\n",
       " {'label': 'sdg_13', 'score': 0.9878729581832886},\n",
       " {'label': 'sdg_13', 'score': 0.9856063723564148},\n",
       " {'label': 'sdg_13', 'score': 0.9831697940826416}]"
      ]
     },
     "execution_count": 54,
     "metadata": {},
     "output_type": "execute_result"
    }
   ],
   "source": [
    "classifier(par_list)"
   ]
  },
  {
   "cell_type": "code",
   "execution_count": 1,
   "id": "ab9cf929",
   "metadata": {},
   "outputs": [
    {
     "data": {
      "text/plain": [
       "\"from pdfminer3.layout import LAParams, LTTextBox\\nfrom pdfminer3.pdfpage import PDFPage\\nfrom pdfminer3.pdfinterp import PDFResourceManager\\nfrom pdfminer3.pdfinterp import PDFPageInterpreter\\nfrom pdfminer3.converter import PDFPageAggregator\\nfrom pdfminer3.converter import TextConverter\\nimport io\\n\\nresource_manager = PDFResourceManager()\\nfake_file_handle = io.StringIO()\\nconverter = TextConverter(resource_manager, fake_file_handle, laparams=LAParams())\\npage_interpreter = PDFPageInterpreter(resource_manager, converter)\\n\\nwith open('150723_Kenya_First NDC.pdf', 'rb') as fh:\\n\\n    for page in PDFPage.get_pages(fh,\\n                                  caching=True,\\n                                  check_extractable=True):\\n        page_interpreter.process_page(page)\\n\\n    text = fake_file_handle.getvalue()\\n\\n# close open handles\\nconverter.close()\\nfake_file_handle.close()\\n\\nprint(text)\""
      ]
     },
     "execution_count": 1,
     "metadata": {},
     "output_type": "execute_result"
    }
   ],
   "source": [
    "'''from pdfminer3.layout import LAParams, LTTextBox\n",
    "from pdfminer3.pdfpage import PDFPage\n",
    "from pdfminer3.pdfinterp import PDFResourceManager\n",
    "from pdfminer3.pdfinterp import PDFPageInterpreter\n",
    "from pdfminer3.converter import PDFPageAggregator\n",
    "from pdfminer3.converter import TextConverter\n",
    "import io\n",
    "\n",
    "resource_manager = PDFResourceManager()\n",
    "fake_file_handle = io.StringIO()\n",
    "converter = TextConverter(resource_manager, fake_file_handle, laparams=LAParams())\n",
    "page_interpreter = PDFPageInterpreter(resource_manager, converter)\n",
    "\n",
    "with open('150723_Kenya_First NDC.pdf', 'rb') as fh:\n",
    "\n",
    "    for page in PDFPage.get_pages(fh,\n",
    "                                  caching=True,\n",
    "                                  check_extractable=True):\n",
    "        page_interpreter.process_page(page)\n",
    "\n",
    "    text = fake_file_handle.getvalue()\n",
    "\n",
    "# close open handles\n",
    "converter.close()\n",
    "fake_file_handle.close()\n",
    "\n",
    "print(text)'''"
   ]
  },
  {
   "cell_type": "code",
   "execution_count": 2,
   "id": "a8d67b93",
   "metadata": {},
   "outputs": [],
   "source": [
    "#convert_pdf_to_txt('150723_Kenya_First NDC.pdf')"
   ]
  },
  {
   "cell_type": "code",
   "execution_count": null,
   "id": "25b84b7f",
   "metadata": {},
   "outputs": [],
   "source": []
  }
 ],
 "metadata": {
  "kernelspec": {
   "display_name": "Python 3 (ipykernel)",
   "language": "python",
   "name": "python3"
  },
  "language_info": {
   "codemirror_mode": {
    "name": "ipython",
    "version": 3
   },
   "file_extension": ".py",
   "mimetype": "text/x-python",
   "name": "python",
   "nbconvert_exporter": "python",
   "pygments_lexer": "ipython3",
   "version": "3.10.4"
  }
 },
 "nbformat": 4,
 "nbformat_minor": 5
}
