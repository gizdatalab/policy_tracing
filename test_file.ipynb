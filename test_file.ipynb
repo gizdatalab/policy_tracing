{
 "cells": [
  {
   "cell_type": "code",
   "execution_count": 66,
   "id": "321d4cd0",
   "metadata": {
    "scrolled": true
   },
   "outputs": [],
   "source": [
    "import seaborn as sns\n",
    "import pdfplumber\n",
    "from pandas import DataFrame\n",
    "from keybert import KeyBERT\n",
    "import matplotlib.pyplot as plt\n",
    "import numpy as np"
   ]
  },
  {
   "cell_type": "code",
   "execution_count": 67,
   "id": "d2507422",
   "metadata": {},
   "outputs": [
    {
     "name": "stdout",
     "output_type": "stream",
     "text": [
      "8\n"
     ]
    }
   ],
   "source": [
    "path = r'150723_Kenya_First NDC.pdf'\n",
    "path = r'C:\\Users\\lehman_eri\\Downloads\\dppd_climate_change_mititgation.pdf'\n",
    "text = []\n",
    "with pdfplumber.open(path) as pdf:\n",
    "    for page in pdf.pages:\n",
    "        text.append(page.extract_text())\n",
    "        \n",
    "print(len(text))"
   ]
  },
  {
   "cell_type": "code",
   "execution_count": 70,
   "id": "21c6f79e",
   "metadata": {},
   "outputs": [
    {
     "data": {
      "text/plain": [
       "['', '', '', '', '', '', '', '']"
      ]
     },
     "execution_count": 70,
     "metadata": {},
     "output_type": "execute_result"
    }
   ],
   "source": [
    "text"
   ]
  },
  {
   "cell_type": "code",
   "execution_count": 68,
   "id": "08735b29",
   "metadata": {},
   "outputs": [],
   "source": [
    "text_str = ' '.join([page for page in text])\n",
    "text_500 = ' '.join([word for word in text_str.split()[:500]]) "
   ]
  },
  {
   "cell_type": "code",
   "execution_count": 69,
   "id": "f245a625",
   "metadata": {},
   "outputs": [
    {
     "name": "stdout",
     "output_type": "stream",
     "text": [
      "7 0 0\n"
     ]
    }
   ],
   "source": [
    "print(len(text_str),len(text_str.split()),len(text_500.split()))"
   ]
  },
  {
   "cell_type": "code",
   "execution_count": null,
   "id": "8f457a3d",
   "metadata": {},
   "outputs": [],
   "source": []
  },
  {
   "cell_type": "code",
   "execution_count": 13,
   "id": "788acb5b",
   "metadata": {},
   "outputs": [],
   "source": [
    "kw_model = KeyBERT()"
   ]
  },
  {
   "cell_type": "code",
   "execution_count": 14,
   "id": "5c9a3ab3",
   "metadata": {},
   "outputs": [],
   "source": [
    "keywords = kw_model.extract_keywords(\n",
    "            text_str,\n",
    "            keyphrase_ngram_range=(1, 2),\n",
    "            use_mmr=True,\n",
    "            stop_words=\"english\",\n",
    "            top_n=10,\n",
    "            diversity=0.5,\n",
    "            )"
   ]
  },
  {
   "cell_type": "code",
   "execution_count": 15,
   "id": "be4707e0",
   "metadata": {},
   "outputs": [
    {
     "data": {
      "text/plain": [
       "[('kenya climate', 0.6419),\n",
       " ('presented nccap', 0.2602),\n",
       " ('sustainable development', 0.427),\n",
       " ('resources response', 0.3689),\n",
       " ('change secretariat', 0.2416),\n",
       " ('warming carbon', 0.4641),\n",
       " ('implementation climate', 0.4725),\n",
       " ('agriculture csa', 0.3411),\n",
       " ('national adaptation', 0.4079),\n",
       " ('ghgts_pc1990 2012', 0.21)]"
      ]
     },
     "execution_count": 15,
     "metadata": {},
     "output_type": "execute_result"
    }
   ],
   "source": [
    "keywords"
   ]
  },
  {
   "cell_type": "code",
   "execution_count": 36,
   "id": "5391f0b4",
   "metadata": {},
   "outputs": [],
   "source": [
    "df = (DataFrame(keywords, columns=[\"Keyword/Keyphrase\", \"Relevancy\"])\n",
    "                .sort_values(by=\"Relevancy\", ascending=False)\n",
    "                .reset_index(drop=True)   )\n",
    "df.index += 1"
   ]
  },
  {
   "cell_type": "code",
   "execution_count": 37,
   "id": "b0d57564",
   "metadata": {},
   "outputs": [],
   "source": [
    "# Add styling\n",
    "cmGreen = sns.light_palette(\"green\", as_cmap=True)\n",
    "cmRed = sns.light_palette(\"red\", as_cmap=True)\n",
    "df = df.style.background_gradient(\n",
    "    cmap=cmGreen,\n",
    "    subset=[\n",
    "        \"Relevancy\",\n",
    "    ],\n",
    ")"
   ]
  },
  {
   "cell_type": "code",
   "execution_count": 38,
   "id": "7001c0f8",
   "metadata": {},
   "outputs": [
    {
     "data": {
      "text/html": [
       "<style type=\"text/css\">\n",
       "#T_2fdcd_row0_col1 {\n",
       "  background-color: #008000;\n",
       "  color: #f1f1f1;\n",
       "}\n",
       "#T_2fdcd_row1_col1 {\n",
       "  background-color: #3e9e3e;\n",
       "  color: #f1f1f1;\n",
       "}\n",
       "#T_2fdcd_row2_col1 {\n",
       "  background-color: #64b164;\n",
       "  color: #f1f1f1;\n",
       "}\n",
       "#T_2fdcd_row3_col1 {\n",
       "  background-color: #69b369;\n",
       "  color: #f1f1f1;\n",
       "}\n",
       "#T_2fdcd_row4_col1 {\n",
       "  background-color: #9acb9a;\n",
       "  color: #000000;\n",
       "}\n",
       "#T_2fdcd_row5_col1 {\n",
       "  background-color: #9fce9f;\n",
       "  color: #000000;\n",
       "}\n",
       "#T_2fdcd_row6_col1 {\n",
       "  background-color: #a2cfa2;\n",
       "  color: #000000;\n",
       "}\n",
       "#T_2fdcd_row7_col1 {\n",
       "  background-color: #b0d6b0;\n",
       "  color: #000000;\n",
       "}\n",
       "#T_2fdcd_row8_col1 {\n",
       "  background-color: #c6e1c6;\n",
       "  color: #000000;\n",
       "}\n",
       "#T_2fdcd_row9_col1 {\n",
       "  background-color: #ebf3eb;\n",
       "  color: #000000;\n",
       "}\n",
       "</style>\n",
       "<table id=\"T_2fdcd\">\n",
       "  <thead>\n",
       "    <tr>\n",
       "      <th class=\"blank level0\" >&nbsp;</th>\n",
       "      <th id=\"T_2fdcd_level0_col0\" class=\"col_heading level0 col0\" >Keyword/Keyphrase</th>\n",
       "      <th id=\"T_2fdcd_level0_col1\" class=\"col_heading level0 col1\" >Relevancy</th>\n",
       "    </tr>\n",
       "  </thead>\n",
       "  <tbody>\n",
       "    <tr>\n",
       "      <th id=\"T_2fdcd_level0_row0\" class=\"row_heading level0 row0\" >1</th>\n",
       "      <td id=\"T_2fdcd_row0_col0\" class=\"data row0 col0\" >change kenya</td>\n",
       "      <td id=\"T_2fdcd_row0_col1\" class=\"data row0 col1\" >58.4%</td>\n",
       "    </tr>\n",
       "    <tr>\n",
       "      <th id=\"T_2fdcd_level0_row1\" class=\"row_heading level0 row1\" >2</th>\n",
       "      <td id=\"T_2fdcd_row1_col0\" class=\"data row1 col0\" >impacts climate</td>\n",
       "      <td id=\"T_2fdcd_row1_col1\" class=\"data row1 col1\" >47.5%</td>\n",
       "    </tr>\n",
       "    <tr>\n",
       "      <th id=\"T_2fdcd_level0_row2\" class=\"row_heading level0 row2\" >3</th>\n",
       "      <td id=\"T_2fdcd_row2_col0\" class=\"data row2 col0\" >national adaptation</td>\n",
       "      <td id=\"T_2fdcd_row2_col1\" class=\"data row2 col1\" >40.8%</td>\n",
       "    </tr>\n",
       "    <tr>\n",
       "      <th id=\"T_2fdcd_level0_row3\" class=\"row_heading level0 row3\" >4</th>\n",
       "      <td id=\"T_2fdcd_row3_col0\" class=\"data row3 col0\" >natural resources</td>\n",
       "      <td id=\"T_2fdcd_row3_col1\" class=\"data row3 col1\" >39.9%</td>\n",
       "    </tr>\n",
       "    <tr>\n",
       "      <th id=\"T_2fdcd_level0_row4\" class=\"row_heading level0 row4\" >5</th>\n",
       "      <td id=\"T_2fdcd_row4_col0\" class=\"data row4 col0\" >change unfccc</td>\n",
       "      <td id=\"T_2fdcd_row4_col1\" class=\"data row4 col1\" >31.4%</td>\n",
       "    </tr>\n",
       "    <tr>\n",
       "      <th id=\"T_2fdcd_level0_row5\" class=\"row_heading level0 row5\" >6</th>\n",
       "      <td id=\"T_2fdcd_row5_col0\" class=\"data row5 col0\" >indc response</td>\n",
       "      <td id=\"T_2fdcd_row5_col1\" class=\"data row5 col1\" >30.5%</td>\n",
       "    </tr>\n",
       "    <tr>\n",
       "      <th id=\"T_2fdcd_level0_row6\" class=\"row_heading level0 row6\" >7</th>\n",
       "      <td id=\"T_2fdcd_row6_col0\" class=\"data row6 col0\" >stakeholder cross</td>\n",
       "      <td id=\"T_2fdcd_row6_col1\" class=\"data row6 col1\" >30.0%</td>\n",
       "    </tr>\n",
       "    <tr>\n",
       "      <th id=\"T_2fdcd_level0_row7\" class=\"row_heading level0 row7\" >8</th>\n",
       "      <td id=\"T_2fdcd_row7_col0\" class=\"data row7 col0\" >policies plans</td>\n",
       "      <td id=\"T_2fdcd_row7_col1\" class=\"data row7 col1\" >27.6%</td>\n",
       "    </tr>\n",
       "    <tr>\n",
       "      <th id=\"T_2fdcd_level0_row8\" class=\"row_heading level0 row8\" >9</th>\n",
       "      <td id=\"T_2fdcd_row8_col0\" class=\"data row8 col0\" >nccap 2013</td>\n",
       "      <td id=\"T_2fdcd_row8_col1\" class=\"data row8 col1\" >23.8%</td>\n",
       "    </tr>\n",
       "    <tr>\n",
       "      <th id=\"T_2fdcd_level0_row9\" class=\"row_heading level0 row9\" >10</th>\n",
       "      <td id=\"T_2fdcd_row9_col0\" class=\"data row9 col0\" >framework convention</td>\n",
       "      <td id=\"T_2fdcd_row9_col1\" class=\"data row9 col1\" >17.2%</td>\n",
       "    </tr>\n",
       "  </tbody>\n",
       "</table>\n"
      ],
      "text/plain": [
       "<pandas.io.formats.style.Styler at 0x2679b3d0ac0>"
      ]
     },
     "execution_count": 38,
     "metadata": {},
     "output_type": "execute_result"
    }
   ],
   "source": [
    "\n",
    "format_dictionary = {\n",
    "    \"Relevancy\": \"{:.1%}\",\n",
    "}\n",
    "\n",
    "df = df.format(format_dictionary)\n",
    "df"
   ]
  },
  {
   "cell_type": "code",
   "execution_count": 5,
   "id": "b662a3f7",
   "metadata": {},
   "outputs": [],
   "source": [
    "from transformers import pipeline \n",
    "\n",
    "finetuned_checkpoint = \"peter2000/roberta-base-finetuned-osdg\"\n",
    "classifier = pipeline(\"text-classification\", model=finetuned_checkpoint)\n"
   ]
  },
  {
   "cell_type": "code",
   "execution_count": null,
   "id": "7e348002",
   "metadata": {},
   "outputs": [],
   "source": []
  },
  {
   "cell_type": "code",
   "execution_count": 6,
   "id": "d14c1412",
   "metadata": {},
   "outputs": [],
   "source": [
    "word_list = text_str.split()\n",
    "len_word_list = len(word_list)\n",
    "    "
   ]
  },
  {
   "cell_type": "code",
   "execution_count": 7,
   "id": "2d3cf731",
   "metadata": {},
   "outputs": [],
   "source": [
    "par_list = []\n",
    "par_len = 130\n",
    "for i in range(0,len_word_list // par_len):\n",
    "    string_part = ' '.join(word_list[i*par_len:(i+1)*par_len])\n",
    "    par_list.append(string_part)"
   ]
  },
  {
   "cell_type": "code",
   "execution_count": 8,
   "id": "d8062da1",
   "metadata": {},
   "outputs": [
    {
     "data": {
      "text/plain": [
       "'mitigation activities. the form of finance, investment, technology development and transfer, and capacity \\uf0b7 Expansion in geothermal, solar and wind energy production, building. other renewables and clean energy options. \\uf0b7 Enhancement of Energy and resource efficiency across the different sectors. \\uf0b7 Make progress towards achieving a tree cover of at least 10% of the land area of Kenya. \\uf0b7 Clean energy technologies to reduce overreliance on wood fuels. \\uf0b7 Low carbon and efficient transportation systems. \\uf0b7 Climate smart agriculture (CSA) in line with the National CSA Framework. \\uf0b7 Sustainable waste management systems. MINISTRY OF ENVIRONMENT AND NATURAL RESOURCES 2.1.1 Information to facilitate clarity, transparency and understanding Timeframe for The timeframe for implementation of the INDC is up to 2030. implementation Scope of gases Carbon dioxide (CO ), Methane (CH ),'"
      ]
     },
     "execution_count": 8,
     "metadata": {},
     "output_type": "execute_result"
    }
   ],
   "source": [
    "par_list[5]"
   ]
  },
  {
   "cell_type": "code",
   "execution_count": 16,
   "id": "d77afc6a",
   "metadata": {},
   "outputs": [
    {
     "data": {
      "text/plain": [
       "[{'label': 'sdg_13', 'score': 0.9822573065757751},\n",
       " {'label': 'sdg_13', 'score': 0.9826704859733582},\n",
       " {'label': 'sdg_13', 'score': 0.9314947128295898},\n",
       " {'label': 'sdg_13', 'score': 0.9224072694778442},\n",
       " {'label': 'sdg_13', 'score': 0.9806581735610962},\n",
       " {'label': 'sdg_13', 'score': 0.9288563132286072},\n",
       " {'label': 'sdg_7', 'score': 0.3843623399734497},\n",
       " {'label': 'sdg_13', 'score': 0.5876168012619019},\n",
       " {'label': 'sdg_7', 'score': 0.5474262833595276},\n",
       " {'label': 'sdg_13', 'score': 0.9875952005386353},\n",
       " {'label': 'sdg_13', 'score': 0.979784369468689},\n",
       " {'label': 'sdg_13', 'score': 0.9798043966293335},\n",
       " {'label': 'sdg_13', 'score': 0.962694525718689},\n",
       " {'label': 'sdg_13', 'score': 0.9788507223129272},\n",
       " {'label': 'sdg_13', 'score': 0.9883235692977905},\n",
       " {'label': 'sdg_13', 'score': 0.9852647185325623},\n",
       " {'label': 'sdg_13', 'score': 0.9839308857917786}]"
      ]
     },
     "execution_count": 16,
     "metadata": {},
     "output_type": "execute_result"
    }
   ],
   "source": [
    "labels = classifier(par_list)\n",
    "labels"
   ]
  },
  {
   "cell_type": "code",
   "execution_count": 27,
   "id": "a4e54a10",
   "metadata": {},
   "outputs": [],
   "source": [
    "labels_= [(l['label'],l['score']) for l in labels]"
   ]
  },
  {
   "cell_type": "code",
   "execution_count": 28,
   "id": "ca4c9760",
   "metadata": {},
   "outputs": [
    {
     "data": {
      "text/plain": [
       "[('sdg_13', 0.9822573065757751),\n",
       " ('sdg_13', 0.9826704859733582),\n",
       " ('sdg_13', 0.9314947128295898),\n",
       " ('sdg_13', 0.9224072694778442),\n",
       " ('sdg_13', 0.9806581735610962),\n",
       " ('sdg_13', 0.9288563132286072),\n",
       " ('sdg_7', 0.3843623399734497),\n",
       " ('sdg_13', 0.5876168012619019),\n",
       " ('sdg_7', 0.5474262833595276),\n",
       " ('sdg_13', 0.9875952005386353),\n",
       " ('sdg_13', 0.979784369468689),\n",
       " ('sdg_13', 0.9798043966293335),\n",
       " ('sdg_13', 0.962694525718689),\n",
       " ('sdg_13', 0.9788507223129272),\n",
       " ('sdg_13', 0.9883235692977905),\n",
       " ('sdg_13', 0.9852647185325623),\n",
       " ('sdg_13', 0.9839308857917786)]"
      ]
     },
     "execution_count": 28,
     "metadata": {},
     "output_type": "execute_result"
    }
   ],
   "source": [
    "labels_"
   ]
  },
  {
   "cell_type": "code",
   "execution_count": 40,
   "id": "50507122",
   "metadata": {},
   "outputs": [],
   "source": [
    "df = DataFrame(labels_, columns=[\"SDG\", \"Relevancy\"])\n",
    "df['text'] = par_list      \n",
    "df = df.sort_values(by=\"Relevancy\", ascending=False).reset_index(drop=True)  \n",
    "df.index += 1\n",
    "#df =df[df['Relevancy']>.95]\n"
   ]
  },
  {
   "cell_type": "code",
   "execution_count": 41,
   "id": "bcc1f518",
   "metadata": {},
   "outputs": [
    {
     "data": {
      "text/html": [
       "<div>\n",
       "<style scoped>\n",
       "    .dataframe tbody tr th:only-of-type {\n",
       "        vertical-align: middle;\n",
       "    }\n",
       "\n",
       "    .dataframe tbody tr th {\n",
       "        vertical-align: top;\n",
       "    }\n",
       "\n",
       "    .dataframe thead th {\n",
       "        text-align: right;\n",
       "    }\n",
       "</style>\n",
       "<table border=\"1\" class=\"dataframe\">\n",
       "  <thead>\n",
       "    <tr style=\"text-align: right;\">\n",
       "      <th></th>\n",
       "      <th>SDG</th>\n",
       "      <th>Relevancy</th>\n",
       "      <th>text</th>\n",
       "    </tr>\n",
       "  </thead>\n",
       "  <tbody>\n",
       "    <tr>\n",
       "      <th>1</th>\n",
       "      <td>sdg_13</td>\n",
       "      <td>0.988324</td>\n",
       "      <td>of its mitigation potential, dependent on the ...</td>\n",
       "    </tr>\n",
       "    <tr>\n",
       "      <th>2</th>\n",
       "      <td>sdg_13</td>\n",
       "      <td>0.987595</td>\n",
       "      <td>places significant priority on adapting to the...</td>\n",
       "    </tr>\n",
       "    <tr>\n",
       "      <th>3</th>\n",
       "      <td>sdg_13</td>\n",
       "      <td>0.985265</td>\n",
       "      <td>the MTP. The adaptation actions are 1 GHG time...</td>\n",
       "    </tr>\n",
       "    <tr>\n",
       "      <th>4</th>\n",
       "      <td>sdg_13</td>\n",
       "      <td>0.983931</td>\n",
       "      <td>change functions by the National and County go...</td>\n",
       "    </tr>\n",
       "    <tr>\n",
       "      <th>5</th>\n",
       "      <td>sdg_13</td>\n",
       "      <td>0.982670</td>\n",
       "      <td>implementation of climate change actions in va...</td>\n",
       "    </tr>\n",
       "    <tr>\n",
       "      <th>6</th>\n",
       "      <td>sdg_13</td>\n",
       "      <td>0.982257</td>\n",
       "      <td>MINISTRY OF ENVIRONMENT AND NATURAL RESOURCES ...</td>\n",
       "    </tr>\n",
       "    <tr>\n",
       "      <th>7</th>\n",
       "      <td>sdg_13</td>\n",
       "      <td>0.980658</td>\n",
       "      <td>both domestic and international resources to a...</td>\n",
       "    </tr>\n",
       "    <tr>\n",
       "      <th>8</th>\n",
       "      <td>sdg_13</td>\n",
       "      <td>0.979804</td>\n",
       "      <td>of ecosystems to climate variability and chang...</td>\n",
       "    </tr>\n",
       "    <tr>\n",
       "      <th>9</th>\n",
       "      <td>sdg_13</td>\n",
       "      <td>0.979784</td>\n",
       "      <td>of current and future energy systems.  Scienc...</td>\n",
       "    </tr>\n",
       "    <tr>\n",
       "      <th>10</th>\n",
       "      <td>sdg_13</td>\n",
       "      <td>0.978851</td>\n",
       "      <td>contribution is also subject to limitations; w...</td>\n",
       "    </tr>\n",
       "    <tr>\n",
       "      <th>11</th>\n",
       "      <td>sdg_13</td>\n",
       "      <td>0.962695</td>\n",
       "      <td>into the extractive sector. Devolution Mainstr...</td>\n",
       "    </tr>\n",
       "    <tr>\n",
       "      <th>12</th>\n",
       "      <td>sdg_13</td>\n",
       "      <td>0.931495</td>\n",
       "      <td>2030, the country’s development blueprint. 1.1...</td>\n",
       "    </tr>\n",
       "    <tr>\n",
       "      <th>13</th>\n",
       "      <td>sdg_13</td>\n",
       "      <td>0.928856</td>\n",
       "      <td>mitigation activities. the form of finance, in...</td>\n",
       "    </tr>\n",
       "    <tr>\n",
       "      <th>14</th>\n",
       "      <td>sdg_13</td>\n",
       "      <td>0.922407</td>\n",
       "      <td>land use, land-use change and forestry (LULUCF...</td>\n",
       "    </tr>\n",
       "    <tr>\n",
       "      <th>15</th>\n",
       "      <td>sdg_13</td>\n",
       "      <td>0.587617</td>\n",
       "      <td>warming potentials in accordance with the IPCC...</td>\n",
       "    </tr>\n",
       "    <tr>\n",
       "      <th>16</th>\n",
       "      <td>sdg_7</td>\n",
       "      <td>0.547426</td>\n",
       "      <td>does not rule out the use of international mar...</td>\n",
       "    </tr>\n",
       "    <tr>\n",
       "      <th>17</th>\n",
       "      <td>sdg_7</td>\n",
       "      <td>0.384362</td>\n",
       "      <td>and Nitrous Oxide (N O) 2 4 2 included in the ...</td>\n",
       "    </tr>\n",
       "  </tbody>\n",
       "</table>\n",
       "</div>"
      ],
      "text/plain": [
       "       SDG  Relevancy                                               text\n",
       "1   sdg_13   0.988324  of its mitigation potential, dependent on the ...\n",
       "2   sdg_13   0.987595  places significant priority on adapting to the...\n",
       "3   sdg_13   0.985265  the MTP. The adaptation actions are 1 GHG time...\n",
       "4   sdg_13   0.983931  change functions by the National and County go...\n",
       "5   sdg_13   0.982670  implementation of climate change actions in va...\n",
       "6   sdg_13   0.982257  MINISTRY OF ENVIRONMENT AND NATURAL RESOURCES ...\n",
       "7   sdg_13   0.980658  both domestic and international resources to a...\n",
       "8   sdg_13   0.979804  of ecosystems to climate variability and chang...\n",
       "9   sdg_13   0.979784  of current and future energy systems.  Scienc...\n",
       "10  sdg_13   0.978851  contribution is also subject to limitations; w...\n",
       "11  sdg_13   0.962695  into the extractive sector. Devolution Mainstr...\n",
       "12  sdg_13   0.931495  2030, the country’s development blueprint. 1.1...\n",
       "13  sdg_13   0.928856  mitigation activities. the form of finance, in...\n",
       "14  sdg_13   0.922407  land use, land-use change and forestry (LULUCF...\n",
       "15  sdg_13   0.587617  warming potentials in accordance with the IPCC...\n",
       "16   sdg_7   0.547426  does not rule out the use of international mar...\n",
       "17   sdg_7   0.384362  and Nitrous Oxide (N O) 2 4 2 included in the ..."
      ]
     },
     "execution_count": 41,
     "metadata": {},
     "output_type": "execute_result"
    }
   ],
   "source": [
    "df"
   ]
  },
  {
   "cell_type": "code",
   "execution_count": 42,
   "id": "59f046e4",
   "metadata": {},
   "outputs": [
    {
     "data": {
      "text/plain": [
       "sdg_13    15\n",
       "sdg_7      2\n",
       "Name: SDG, dtype: int64"
      ]
     },
     "execution_count": 42,
     "metadata": {},
     "output_type": "execute_result"
    }
   ],
   "source": [
    "x = df['SDG'].value_counts()\n",
    "x"
   ]
  },
  {
   "cell_type": "code",
   "execution_count": 50,
   "id": "b158c39f",
   "metadata": {},
   "outputs": [
    {
     "data": {
      "text/plain": [
       "['sdg_13', 'sdg_7']"
      ]
     },
     "execution_count": 50,
     "metadata": {},
     "output_type": "execute_result"
    }
   ],
   "source": [
    "list(x.index)"
   ]
  },
  {
   "cell_type": "code",
   "execution_count": 62,
   "id": "7e3cf356",
   "metadata": {},
   "outputs": [
    {
     "data": {
      "image/png": "[encoded data removed]",
      "text/plain": [
       "<Figure size 432x288 with 1 Axes>"
      ]
     },
     "metadata": {},
     "output_type": "display_data"
    }
   ],
   "source": [
    "plt.rcParams['font.size'] = 25\n",
    "colors = plt.get_cmap('Blues')(np.linspace(0.2, 0.7, len(x)))\n",
    "# plot\n",
    "fig, ax = plt.subplots()\n",
    "ax.pie(x, colors=colors, radius=2, center=(4, 4),\n",
    "       wedgeprops={\"linewidth\": 1, \"edgecolor\": \"white\"}, frame=False,labels =list(x.index))\n",
    "\n",
    "\n",
    "#ax.set(xlim=(0, 8), xticks=np.arange(1, 8),\n",
    "#       ylim=(0, 8), yticks=np.arange(1, 8))\n",
    "\n",
    "plt.show()"
   ]
  },
  {
   "cell_type": "code",
   "execution_count": 65,
   "id": "afd6e81e",
   "metadata": {},
   "outputs": [
    {
     "data": {
      "text/html": [
       "<style type=\"text/css\">\n",
       "#T_f73d3_row0_col1, #T_f73d3_row1_col1 {\n",
       "  background-color: #008000;\n",
       "  color: #f1f1f1;\n",
       "}\n",
       "#T_f73d3_row2_col1, #T_f73d3_row3_col1 {\n",
       "  background-color: #018001;\n",
       "  color: #f1f1f1;\n",
       "}\n",
       "#T_f73d3_row4_col1, #T_f73d3_row5_col1 {\n",
       "  background-color: #028102;\n",
       "  color: #f1f1f1;\n",
       "}\n",
       "#T_f73d3_row6_col1, #T_f73d3_row7_col1, #T_f73d3_row8_col1 {\n",
       "  background-color: #038103;\n",
       "  color: #f1f1f1;\n",
       "}\n",
       "#T_f73d3_row9_col1 {\n",
       "  background-color: #048204;\n",
       "  color: #f1f1f1;\n",
       "}\n",
       "#T_f73d3_row10_col1 {\n",
       "  background-color: #098509;\n",
       "  color: #f1f1f1;\n",
       "}\n",
       "#T_f73d3_row11_col1 {\n",
       "  background-color: #168b16;\n",
       "  color: #f1f1f1;\n",
       "}\n",
       "#T_f73d3_row12_col1 {\n",
       "  background-color: #178b17;\n",
       "  color: #f1f1f1;\n",
       "}\n",
       "#T_f73d3_row13_col1 {\n",
       "  background-color: #198c19;\n",
       "  color: #f1f1f1;\n",
       "}\n",
       "#T_f73d3_row14_col1 {\n",
       "  background-color: #9bcc9b;\n",
       "  color: #000000;\n",
       "}\n",
       "#T_f73d3_row15_col1 {\n",
       "  background-color: #abd4ab;\n",
       "  color: #000000;\n",
       "}\n",
       "#T_f73d3_row16_col1 {\n",
       "  background-color: #ebf3eb;\n",
       "  color: #000000;\n",
       "}\n",
       "</style>\n",
       "<table id=\"T_f73d3\">\n",
       "  <thead>\n",
       "    <tr>\n",
       "      <th class=\"blank level0\" >&nbsp;</th>\n",
       "      <th id=\"T_f73d3_level0_col0\" class=\"col_heading level0 col0\" >SDG</th>\n",
       "      <th id=\"T_f73d3_level0_col1\" class=\"col_heading level0 col1\" >Relevancy</th>\n",
       "      <th id=\"T_f73d3_level0_col2\" class=\"col_heading level0 col2\" >text</th>\n",
       "    </tr>\n",
       "  </thead>\n",
       "  <tbody>\n",
       "    <tr>\n",
       "      <th id=\"T_f73d3_level0_row0\" class=\"row_heading level0 row0\" >1</th>\n",
       "      <td id=\"T_f73d3_row0_col0\" class=\"data row0 col0\" >sdg_13</td>\n",
       "      <td id=\"T_f73d3_row0_col1\" class=\"data row0 col1\" >98.8%</td>\n",
       "      <td id=\"T_f73d3_row0_col2\" class=\"data row0 col2\" >of its mitigation potential, dependent on the level of support available. This will involve implementing the priority mitigation and adaptation actions in the NCCAP to achieve a low carbon climate resilient development in line with Vision 2030. This is the first time that Kenya has stated an intended contribution to global mitigation efforts. In addition, Kenya’s INDC represents her aspiration to increase the resilience to climate change by introducing a comprehensive programme for adaptation action across sectors in support of livelihoods, and economic well-being of the Kenyan people. This represents a high level of fairness and ambition in light of Kenya’s national circumstances. 4. Planning process Kenya’s planning process on mitigation and adaptation hinges on the NCCAP and the NAP. The two shall be reviewed every five years to inform</td>\n",
       "    </tr>\n",
       "    <tr>\n",
       "      <th id=\"T_f73d3_level0_row1\" class=\"row_heading level0 row1\" >2</th>\n",
       "      <td id=\"T_f73d3_row1_col0\" class=\"data row1 col0\" >sdg_13</td>\n",
       "      <td id=\"T_f73d3_row1_col1\" class=\"data row1 col1\" >98.8%</td>\n",
       "      <td id=\"T_f73d3_row1_col2\" class=\"data row1 col2\" >places significant priority on adapting to the effects of climate change. 2.2.1 Programme of action for adaptation The priority adaptation actions are presented in the NCCAP and further Kenya will ensure enhanced resilience to climate change towards the attainment of elaborated in the NAP. The actions are based on risk and vulnerability assessments across Vision 2030 by mainstreaming climate change adaptation into the Medium Term the MTP sectors. Many of the actions have strong synergies with mitigation actions. Plans (MTPs) and implementing adaptation Kenya’s capacity to undertake strong actions. Any reasonable achievement of the adaptation goal will require financial, mitigation actions is dependent upon support for the implementation of these technology and capacity building support. adaptation actions.  MTP SECTOR  PRIORITY ADAPTATION ACTIONS  Energy  Increase the resilience</td>\n",
       "    </tr>\n",
       "    <tr>\n",
       "      <th id=\"T_f73d3_level0_row2\" class=\"row_heading level0 row2\" >3</th>\n",
       "      <td id=\"T_f73d3_row2_col0\" class=\"data row2 col0\" >sdg_13</td>\n",
       "      <td id=\"T_f73d3_row2_col1\" class=\"data row2 col1\" >98.5%</td>\n",
       "      <td id=\"T_f73d3_row2_col2\" class=\"data row2 col2\" >the MTP. The adaptation actions are 1 GHG time series 1990-2012 per capita emissions for world countries http://edgar.jrc.ec.europa.eu/overview.php?v=GHGts_pc1990-2012 MINISTRY OF ENVIRONMENT AND NATURAL RESOURCES further amplified in the NAP. Mitigation and adaptation actions are implemented across the various sectors at both the national and county government levels. The Ministry of Environment and Natural Resources coordinates the country’s climate change affairs through the National Climate Change Secretariat (NCCS). The planning process also takes cognisance of the Climate Change Bill (2014) that proposes several institutional reforms to enhance coordination of climate change adaptation and mitigation. These include the establishment of:  A high level National Climate Change Council chaired by the President. The Council shall provide an overarching national climate change coordination mechanism and, among other roles, ensure the mainstreaming of climate</td>\n",
       "    </tr>\n",
       "    <tr>\n",
       "      <th id=\"T_f73d3_level0_row3\" class=\"row_heading level0 row3\" >4</th>\n",
       "      <td id=\"T_f73d3_row3_col0\" class=\"data row3 col0\" >sdg_13</td>\n",
       "      <td id=\"T_f73d3_row3_col1\" class=\"data row3 col1\" >98.4%</td>\n",
       "      <td id=\"T_f73d3_row3_col2\" class=\"data row3 col2\" >change functions by the National and County governments, and approve and oversee the implementation of the NCCAP.  A Climate Change Directorate as the lead agency of the government on national climate change plans and actions to deliver operational coordination; and provide technical assistance on climate change actions and responses to County governments.  Kenya Climate Fund to be a financing mechanism for priority climate change actions and interventions approved by the Council. In addressing climate change issues, public entities are required to undertake public awareness and consultations, and ensure gender mainstreaming, in line with the Constitution and the Climate Change Bill (2014). 5. Means of implementation Kenya’s contribution will be implemented with both domestic and international support. It is estimated that over USD 40 billion is required for mitigation</td>\n",
       "    </tr>\n",
       "    <tr>\n",
       "      <th id=\"T_f73d3_level0_row4\" class=\"row_heading level0 row4\" >5</th>\n",
       "      <td id=\"T_f73d3_row4_col0\" class=\"data row4 col0\" >sdg_13</td>\n",
       "      <td id=\"T_f73d3_row4_col1\" class=\"data row4 col1\" >98.3%</td>\n",
       "      <td id=\"T_f73d3_row4_col2\" class=\"data row4 col2\" >implementation of climate change actions in various areas such as afforestation and reforestation, geothermal and other clean energy development, energy efficiency, climate smart agriculture, and drought management. This document presents Kenya’s Intended Nationally Determined Contribution (INDC) in response to decisions adopted at the 19th and 20th sessions of the Conference of the Parties to the United Nations Framework Convention on Climate Change (UNFCCC); that invite Parties to communicate to the Secretariat their INDCs, towards achieving the objective of the UNFCCC as set out in Article 2 of the Convention. Kenya’s INDC builds on the participatory multi-stakeholder and cross-sectoral consultative processes during the development of NCCRS and NCCAP at national and county levels. The contribution will also contribute towards the delivery of the Constitution of Kenya and the attainment of Vision</td>\n",
       "    </tr>\n",
       "    <tr>\n",
       "      <th id=\"T_f73d3_level0_row5\" class=\"row_heading level0 row5\" >6</th>\n",
       "      <td id=\"T_f73d3_row5_col0\" class=\"data row5 col0\" >sdg_13</td>\n",
       "      <td id=\"T_f73d3_row5_col1\" class=\"data row5 col1\" >98.2%</td>\n",
       "      <td id=\"T_f73d3_row5_col2\" class=\"data row5 col2\" >MINISTRY OF ENVIRONMENT AND NATURAL RESOURCES Kenya’s Intended Nationally Determined Contribution (INDC) 23 July 2015 1. Introduction Kenya, like other countries in the region, is bearing the brunt of climate change impacts and the associated socio-economic losses. The situation is exacerbated by the high dependence on climate sensitive natural resources. In response to the challenges posed by Climate Change, Kenya has developed a National Climate Change Response Strategy (NCCRS 2010), National Climate Change Action Plan (NCCAP 2013), and a National Adaptation Plan (NAP) - under preparation which provides a vision for low carbon and climate resilient development pathway, while a National Climate Change Framework Policy and legislation are in their final stages of enactment to facilitate effective response to climate change. Kenya is operationalising these policies and plans through the</td>\n",
       "    </tr>\n",
       "    <tr>\n",
       "      <th id=\"T_f73d3_level0_row6\" class=\"row_heading level0 row6\" >7</th>\n",
       "      <td id=\"T_f73d3_row6_col0\" class=\"data row6 col0\" >sdg_13</td>\n",
       "      <td id=\"T_f73d3_row6_col1\" class=\"data row6 col1\" >98.1%</td>\n",
       "      <td id=\"T_f73d3_row6_col2\" class=\"data row6 col2\" >both domestic and international resources to adapt to climate change and realise its abatement potentials. 2. Contribution Kenya’s INDC includes both mitigation and adaptation components based on her national circumstances and in line with decisions 1/CP.19 and 1/CP.20. 2.1 Mitigation Kenya aims to achieve a low carbon, climate resilient development pathway. Kenya seeks to undertake an ambitious mitigation contribution towards the 2015 Kenya will continue to implement the Agreement. Kenya therefore seeks to abate its NCCAP (2013-2017), and subsequent GHG emissions by 30% by 2030 relative to action plans beyond this period to the BAU scenario of 143 MtCO eq; and in achieve this target. This will include the 2 line with its sustainable development agenda. promotion and implementation of the This is also subject to international support in following</td>\n",
       "    </tr>\n",
       "    <tr>\n",
       "      <th id=\"T_f73d3_level0_row7\" class=\"row_heading level0 row7\" >8</th>\n",
       "      <td id=\"T_f73d3_row7_col0\" class=\"data row7 col0\" >sdg_13</td>\n",
       "      <td id=\"T_f73d3_row7_col1\" class=\"data row7 col1\" >98.0%</td>\n",
       "      <td id=\"T_f73d3_row7_col2\" class=\"data row7 col2\" >of ecosystems to climate variability and change. Water and irrigation Mainstream of climate change adaptation in the water sector by implementing the National Water Master Plan (2014). Population, urbanisation Enhance the adaptive capacity of the population, urbanisation and and housing housing sector. Gender, Vulnerable Strengthen the adaptive capacity of the most vulnerable groups and Groups and Youth communities through social safety nets and insurance schemes. Tourism Enhance the resilience of the tourism value chain. Agriculture, livestock Enhance the resilience of the agriculture, livestock and fisheries value development and fisheries chains by promoting climate smart agriculture and livestock development. Private Sector/ Trade; Create enabling environment for the resilience of private sector Manufacturing; Business investment, demonstrate an operational business case. Process Outsourcing, Financial services Oil and mineral resources Integrate climate change adaptation</td>\n",
       "    </tr>\n",
       "    <tr>\n",
       "      <th id=\"T_f73d3_level0_row8\" class=\"row_heading level0 row8\" >9</th>\n",
       "      <td id=\"T_f73d3_row8_col0\" class=\"data row8 col0\" >sdg_13</td>\n",
       "      <td id=\"T_f73d3_row8_col1\" class=\"data row8 col1\" >98.0%</td>\n",
       "      <td id=\"T_f73d3_row8_col2\" class=\"data row8 col2\" >of current and future energy systems.  Science, Technology and Support innovation and development of appropriate technologies that innovations promote climate resilient development. MINISTRY OF ENVIRONMENT AND NATURAL RESOURCES  MTP SECTOR  PRIORITY ADAPTATION ACTIONS Public sector reforms Integrate climate change adaptation into the public sector reforms.  Human Resource  Enhance adaptive capacity and resilience of the informal private Development, Labour and sector. Employment  Infrastructure  Climate proofing of infrastructure (energy, transport, buildings, ICT).  Land Reforms  Mainstream climate change adaptation in land reforms. Education and training Enhance education, training, public awareness, public participation, public access to information on climate change adaptation across public and private sectors. Health Strengthen integration of climate change adaptation into the health sector. Environment Enhance climate information services. Enhance the resilience</td>\n",
       "    </tr>\n",
       "    <tr>\n",
       "      <th id=\"T_f73d3_level0_row9\" class=\"row_heading level0 row9\" >10</th>\n",
       "      <td id=\"T_f73d3_row9_col0\" class=\"data row9 col0\" >sdg_13</td>\n",
       "      <td id=\"T_f73d3_row9_col1\" class=\"data row9 col1\" >97.9%</td>\n",
       "      <td id=\"T_f73d3_row9_col2\" class=\"data row9 col2\" >contribution is also subject to limitations; with poverty alleviation and sustainable economic development being the key national objectives. Increasing the per-capita GDP growth equitably above the current levels of 4.1% is therefore a priority. Nevertheless, Kenya places a high priority on response to climate change. In order to meet the below 2 C objective, all countries will need to undertake mitigation based on the common but differentiated responsibilities and respective capabilities in accordance with the Convention. In addition, Kenya particularly notes that the Lima Call to Action agrees that each Party’s contribution will “represent a progression beyond the current undertaking of that Party”. Kenya is determined to continue playing a leadership role in addressing climate change by communicating a fair and ambitious contribution. This intended contribution targets a high proportion</td>\n",
       "    </tr>\n",
       "    <tr>\n",
       "      <th id=\"T_f73d3_level0_row10\" class=\"row_heading level0 row10\" >11</th>\n",
       "      <td id=\"T_f73d3_row10_col0\" class=\"data row10 col0\" >sdg_13</td>\n",
       "      <td id=\"T_f73d3_row10_col1\" class=\"data row10 col1\" >96.3%</td>\n",
       "      <td id=\"T_f73d3_row10_col2\" class=\"data row10 col2\" >into the extractive sector. Devolution Mainstream climate change adaptation into county integrated development plans and implement the Ending Drought Emergencies Strategy. MINISTRY OF ENVIRONMENT AND NATURAL RESOURCES 3. Fairness and ambition Kenya believes that the key factors in determining the fairness of a contribution should include historical responsibility and respective capability to address climate change. The UNFCCC also recognises that the extent to which developing countries will meet their obligations under the Convention will depend on the level of support in terms of finance, technology and capacity building available. Kenya’s historical contribution is low, at 0.1% of the total global emissions, while the per- capita emissions are less than 1.26 MtCO eq compared to the global average of 7.58 2 MtCO eq 1. 2 The country’s capability to implement this</td>\n",
       "    </tr>\n",
       "    <tr>\n",
       "      <th id=\"T_f73d3_level0_row11\" class=\"row_heading level0 row11\" >12</th>\n",
       "      <td id=\"T_f73d3_row11_col0\" class=\"data row11 col0\" >sdg_13</td>\n",
       "      <td id=\"T_f73d3_row11_col1\" class=\"data row11 col1\" >93.1%</td>\n",
       "      <td id=\"T_f73d3_row11_col2\" class=\"data row11 col2\" >2030, the country’s development blueprint. 1.1 National Circumstances Kenya is located in the Greater Horn of Africa region, which is highly vulnerable to the impacts of climate change. More than 80% of the country’s landmass is arid and semi-arid land (ASAL) with poor infrastructure, and other developmental challenges. The country’s economy is highly dependent on climate sensitive sectors such as agriculture that is mainly rain-fed, energy, tourism, water and health. Climate hazards have caused considerable losses across the country’s different sectors over the years. The main climate hazards include droughts and floods which cause economic losses estimated at 3% of the country’s Gross Domestic Product (GDP). Kenya’s total greenhouse gas (GHG) emissions are relatively low, standing at 73 MtCO eq 2 in 2010, out of which 75% are from the</td>\n",
       "    </tr>\n",
       "    <tr>\n",
       "      <th id=\"T_f73d3_level0_row12\" class=\"row_heading level0 row12\" >13</th>\n",
       "      <td id=\"T_f73d3_row12_col0\" class=\"data row12 col0\" >sdg_13</td>\n",
       "      <td id=\"T_f73d3_row12_col1\" class=\"data row12 col1\" >92.9%</td>\n",
       "      <td id=\"T_f73d3_row12_col2\" class=\"data row12 col2\" >mitigation activities. the form of finance, investment, technology development and transfer, and capacity  Expansion in geothermal, solar and wind energy production, building. other renewables and clean energy options.  Enhancement of Energy and resource efficiency across the different sectors.  Make progress towards achieving a tree cover of at least 10% of the land area of Kenya.  Clean energy technologies to reduce overreliance on wood fuels.  Low carbon and efficient transportation systems.  Climate smart agriculture (CSA) in line with the National CSA Framework.  Sustainable waste management systems. MINISTRY OF ENVIRONMENT AND NATURAL RESOURCES 2.1.1 Information to facilitate clarity, transparency and understanding Timeframe for The timeframe for implementation of the INDC is up to 2030. implementation Scope of gases Carbon dioxide (CO ), Methane (CH ),</td>\n",
       "    </tr>\n",
       "    <tr>\n",
       "      <th id=\"T_f73d3_level0_row13\" class=\"row_heading level0 row13\" >14</th>\n",
       "      <td id=\"T_f73d3_row13_col0\" class=\"data row13 col0\" >sdg_13</td>\n",
       "      <td id=\"T_f73d3_row13_col1\" class=\"data row13 col1\" >92.2%</td>\n",
       "      <td id=\"T_f73d3_row13_col2\" class=\"data row13 col2\" >land use, land-use change and forestry (LULUCF) and agriculture sectors. This may be explained by the reliance on wood fuel by a large proportion of the population coupled with the increasing demand for agricultural land and MINISTRY OF ENVIRONMENT AND NATURAL RESOURCES urban development. The other significant emissions are from the energy and transport sectors, with the waste and industrial processes contributing negligible amounts. Kenya strives to be a newly industrialised middle income country by 2030. This development is expected to increase emissions from the energy sector. The current energy mix, however, is mainly clean with deliberate efforts by Government towards enhancing geothermal, wind, solar and other clean energy development. Climate change impacts continue to slow down the attainment of its national development goals. Kenya will continue making investments with</td>\n",
       "    </tr>\n",
       "    <tr>\n",
       "      <th id=\"T_f73d3_level0_row14\" class=\"row_heading level0 row14\" >15</th>\n",
       "      <td id=\"T_f73d3_row14_col0\" class=\"data row14 col0\" >sdg_13</td>\n",
       "      <td id=\"T_f73d3_row14_col1\" class=\"data row14 col1\" >58.8%</td>\n",
       "      <td id=\"T_f73d3_row14_col2\" class=\"data row14 col2\" >warming potentials in accordance with the IPCC 2nd Assessment Report. Approaches to land This includes emissions from the land use, land-use change and sector emissions forestry (LULUCF) sector. Relevant national policy documents and the FAO's Global Forest Resource Assessment 2010 for Kenya were used. A global land-use data approach was used, as described in the 2003 IPCC Good Practice Guidance for LULUCF. A state and transition model consistent with the 1996 Revised IPCC Guidelines was used to calculate fluxes of CO to (or from) 2 the atmosphere and biomass carbon pools is the same as outlined in the 1996 Revised IPCC Guidelines. There is significant uncertainty in the BAU emission and mitigation potential estimates for this sector and work is underway to update and improve these estimates. Contribution of Kenya</td>\n",
       "    </tr>\n",
       "    <tr>\n",
       "      <th id=\"T_f73d3_level0_row15\" class=\"row_heading level0 row15\" >16</th>\n",
       "      <td id=\"T_f73d3_row15_col0\" class=\"data row15 col0\" >sdg_7</td>\n",
       "      <td id=\"T_f73d3_row15_col1\" class=\"data row15 col1\" >54.7%</td>\n",
       "      <td id=\"T_f73d3_row15_col2\" class=\"data row15 col2\" >does not rule out the use of international market-based International mechanisms in line with agreed accounting rules. MINISTRY OF ENVIRONMENT AND NATURAL RESOURCES Market Based Mechanism Reference Point BAU emissions in Business-as-usual (BAU) emissions are estimated to be 143 the target year MtCO eq) by 2030. This excludes future exploitation in the 2 extractive sector. BAU projection The BAU projection methodology is detailed within the NCCAP and methodology the Second National Communication (SNC), including key assumptions, drivers and methodologies for each sector. The base year is 2010. For geothermal energy, note that the BAU projection contained in the NCCAP and SNC has been revised to be consistent with the current level of geothermal deployment since the NCCAP was published. 2.2 Adaptation As a minimal contributor to global GHG emissions, Kenya</td>\n",
       "    </tr>\n",
       "    <tr>\n",
       "      <th id=\"T_f73d3_level0_row16\" class=\"row_heading level0 row16\" >17</th>\n",
       "      <td id=\"T_f73d3_row16_col0\" class=\"data row16 col0\" >sdg_7</td>\n",
       "      <td id=\"T_f73d3_row16_col1\" class=\"data row16 col1\" >38.4%</td>\n",
       "      <td id=\"T_f73d3_row16_col2\" class=\"data row16 col2\" >and Nitrous Oxide (N O) 2 4 2 included in the are prioritised. contribution Sectors covered by The IPCC Guidelines for all sectors: Energy, Transportation, the contribution Industrial Processes, Agriculture, Forestry and Other Land Use (AFOLU) and waste sector. Assumptions and methodological approaches Methodology for The IPCC Revised 1996 Guidelines for National Greenhouse Gas emissions Inventories and the Good Practise Guidance and Uncertainty accounting Management in National Greenhouse Gas Inventories were used to calculate the GHG emissions and removals as described in the Second National Communication. Emissions of carbon dioxide from the combustion of biomass are assessed but not counted towards the contribution. Future contribution from the extractive sector has not been included in the accounting. Global warming The carbon dioxide equivalent was calculated using the 100 year potentials global</td>\n",
       "    </tr>\n",
       "  </tbody>\n",
       "</table>\n"
      ],
      "text/plain": [
       "<pandas.io.formats.style.Styler at 0x237568eb430>"
      ]
     },
     "execution_count": 65,
     "metadata": {},
     "output_type": "execute_result"
    }
   ],
   "source": [
    "# Add styling\n",
    "cmGreen = sns.light_palette(\"green\", as_cmap=True)\n",
    "cmRed = sns.light_palette(\"red\", as_cmap=True)\n",
    "df = df.style.background_gradient(\n",
    "    cmap=cmGreen,\n",
    "    subset=[\n",
    "        \"Relevancy\",\n",
    "    ],\n",
    ")\n",
    "format_dictionary = {\n",
    "    \"Relevancy\": \"{:.1%}\",\n",
    "}\n",
    "\n",
    "df = df.format(format_dictionary)\n",
    "df"
   ]
  },
  {
   "cell_type": "code",
   "execution_count": 1,
   "id": "ab9cf929",
   "metadata": {},
   "outputs": [
    {
     "data": {
      "text/plain": [
       "\"from pdfminer3.layout import LAParams, LTTextBox\\nfrom pdfminer3.pdfpage import PDFPage\\nfrom pdfminer3.pdfinterp import PDFResourceManager\\nfrom pdfminer3.pdfinterp import PDFPageInterpreter\\nfrom pdfminer3.converter import PDFPageAggregator\\nfrom pdfminer3.converter import TextConverter\\nimport io\\n\\nresource_manager = PDFResourceManager()\\nfake_file_handle = io.StringIO()\\nconverter = TextConverter(resource_manager, fake_file_handle, laparams=LAParams())\\npage_interpreter = PDFPageInterpreter(resource_manager, converter)\\n\\nwith open('150723_Kenya_First NDC.pdf', 'rb') as fh:\\n\\n    for page in PDFPage.get_pages(fh,\\n                                  caching=True,\\n                                  check_extractable=True):\\n        page_interpreter.process_page(page)\\n\\n    text = fake_file_handle.getvalue()\\n\\n# close open handles\\nconverter.close()\\nfake_file_handle.close()\\n\\nprint(text)\""
      ]
     },
     "execution_count": 1,
     "metadata": {},
     "output_type": "execute_result"
    }
   ],
   "source": [
    "'''from pdfminer3.layout import LAParams, LTTextBox\n",
    "from pdfminer3.pdfpage import PDFPage\n",
    "from pdfminer3.pdfinterp import PDFResourceManager\n",
    "from pdfminer3.pdfinterp import PDFPageInterpreter\n",
    "from pdfminer3.converter import PDFPageAggregator\n",
    "from pdfminer3.converter import TextConverter\n",
    "import io\n",
    "\n",
    "resource_manager = PDFResourceManager()\n",
    "fake_file_handle = io.StringIO()\n",
    "converter = TextConverter(resource_manager, fake_file_handle, laparams=LAParams())\n",
    "page_interpreter = PDFPageInterpreter(resource_manager, converter)\n",
    "\n",
    "with open('150723_Kenya_First NDC.pdf', 'rb') as fh:\n",
    "\n",
    "    for page in PDFPage.get_pages(fh,\n",
    "                                  caching=True,\n",
    "                                  check_extractable=True):\n",
    "        page_interpreter.process_page(page)\n",
    "\n",
    "    text = fake_file_handle.getvalue()\n",
    "\n",
    "# close open handles\n",
    "converter.close()\n",
    "fake_file_handle.close()\n",
    "\n",
    "print(text)'''"
   ]
  },
  {
   "cell_type": "code",
   "execution_count": 2,
   "id": "a8d67b93",
   "metadata": {},
   "outputs": [],
   "source": [
    "#convert_pdf_to_txt('150723_Kenya_First NDC.pdf')"
   ]
  },
  {
   "cell_type": "code",
   "execution_count": null,
   "id": "25b84b7f",
   "metadata": {},
   "outputs": [],
   "source": []
  }
 ],
 "metadata": {
  "kernelspec": {
   "display_name": "Python 3 (ipykernel)",
   "language": "python",
   "name": "python3"
  },
  "language_info": {
   "codemirror_mode": {
    "name": "ipython",
    "version": 3
   },
   "file_extension": ".py",
   "mimetype": "text/x-python",
   "name": "python",
   "nbconvert_exporter": "python",
   "pygments_lexer": "ipython3",
   "version": "3.10.4"
  }
 },
 "nbformat": 4,
 "nbformat_minor": 5
}
